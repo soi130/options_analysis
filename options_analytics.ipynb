{
 "cells": [
  {
   "cell_type": "markdown",
   "metadata": {},
   "source": [
    "# Introduction\n",
    "\n",
    "This is a personal project to grasp some concept of SET50 Options pricing.  The historical Options price was mannually collected by myself on a daily basis with a Google Sheet during those trading days. \n",
    "\n",
    "Here is how it lool like on a speadsheet:\n",
    "\n",
    "![options_sheet](options_sheet.png)\n",
    "\n",
    "I have been trading Options for several years and still wanting to better understand the pricing of the Options, so, as a data analyst, I think I will use some of the DA tools to help me grasp a better picture of Options Pricing.\n",
    "\n",
    "----------------\n",
    "\n",
    "Options is a derivative origanally aim to be used as an insurance for an underlying asset volatility during a certain period of time. And just like any insurances, the buyer need to pay the insurance premium to get insured, but, a million dollar question is, \"How much\" you should pay or sell for an option at a certain time.\n",
    "\n",
    "Since Options premium depends a lot on: \n",
    "- underlying's volatility and \n",
    "- time to expiration \n",
    "This notebook thus aim to map Options premium to both of the factors.\n",
    "\n",
    "For anyone who want to learn more about Options, here's a [link](https://www.investopedia.com/terms/s/stockoption.asp) to lay some foundation. \n",
    "\n",
    "----------------\n",
    "\n",
    "**Thailand Future Exchange(TFEX)** is a derivative market wich provides wide range of derivative such as \"Index Future\" and \"Index Options\". Each contracts expired at the end of each quarters and coded by the letter and numbers. Here is how to read the contract symbol:\n",
    "\n",
    " * S50H20 -> Means: this is an SET50 Index Future Expired at March 2020.\n",
    " \n",
    " * S50M20C900 -> Means: this is an SET50 Index Options at Strike Price 900 Expired at June 2020.\n",
    " \n",
    " The month code are as follows:\n",
    " \n",
    " * H -> March Expiration\n",
    " * M -> June Expiration\n",
    " * U -> September Expiration\n",
    " * Z -> December Expiration\n",
    " \n",
    " Thus **S50U22** is an **SET50 Index Future Contract expired at September 2022.**\n",
    " \n",
    " \n",
    " For more detailed explanation, please visit the [exchange](https://www.tfex.co.th/tfex/index.html?locale=en_US) tutorial.\n",
    "\n",
    "-----------------------\n",
    "\n",
    "Thanak Rattanopastkul, 2022 "
   ]
  },
  {
   "cell_type": "markdown",
   "metadata": {},
   "source": [
    "# Dataset's Note\n",
    "\n",
    "There are 2 datasets in this notebook.\n",
    "* Merged-Table 1.csv\n",
    "* option_premium.csv\n",
    "\n",
    "### Merged-Table 1.csv\n",
    "This dataset is a historical price of SET50 Futures, an equity index future of Thailand's Stock Exchange. I Collected directly from the **TFEX**(Thailand's Future Exchange) [website](https://www.tfex.co.th/tfex/dailyMarketReport.html?locale=en_US) and merge all the series together and add a trading SYMBOL to every observations.\n",
    "    \n",
    "The collumns in Merged-Table 1.csv are as follows:\n",
    "* **Date** -> Trading day\n",
    "* **Open** -> Opening price\n",
    "* **High** -> Higest price duing the day\n",
    "* **Low** -> Lowest price duing the day\n",
    "* **Close** -> Closing price\n",
    "* **SP** -> [Settlement price](https://www.investopedia.com/terms/s/settlementprice.asp)\n",
    "* **Chg** -> Price change from last trading day\n",
    "* **%Chg** -> Price percent change from last trading day\n",
    "* **Vol** -> Trading volume\n",
    "* **OI** -> [Open Interest](https://www.investopedia.com/terms/o/openinterest.asp)\n",
    "* **Series** -> Trading symbol\n",
    "\n",
    "### option_premiun.csv\n",
    "This is a dataset manually collected by myself at the end of each trading day to record the price movement and any market beheaviors. I take only the relevant features and exported the dataset to CSV file.\n",
    "\n",
    "The collumns in Merged-Table 1.csv are as follows:\n",
    "* **Date** -> Trading day\n",
    "* **Series Name** -> Trading Symbol\n",
    "* **Underlying Close** -> Nearest SET50 Future Contract closing price \n",
    "* **Expiration** -> Options Expiration Date\n",
    "* **Day to expire** -> Day count to expiration\n",
    "* **Underlying Change** -> Nearest SET50 Future Contract price change from last observation\n",
    "* **ATM premium** -> SUM of Put and Call Options Premium at the [ATM](https://www.investopedia.com/terms/a/atthemoney.asp)\n",
    "* **+/-1 OTM premium** -> SUM of Put and Call Options Premium at the [+1 Call and -1 Put](https://www.investopedia.com/terms/o/outofthemoney.asp)\n"
   ]
  },
  {
   "cell_type": "markdown",
   "metadata": {},
   "source": [
    "### Import Dependencies"
   ]
  },
  {
   "cell_type": "code",
   "execution_count": 9,
   "metadata": {},
   "outputs": [],
   "source": [
    "import pandas as pd\n",
    "import numpy as np\n",
    "import matplotlib.pyplot as plt\n",
    "import seaborn as sns\n",
    "\n",
    "import os\n",
    "import gc\n",
    "\n",
    "import warnings\n",
    "warnings.filterwarnings('ignore')"
   ]
  },
  {
   "cell_type": "markdown",
   "metadata": {},
   "source": [
    "### Read the Data"
   ]
  },
  {
   "cell_type": "code",
   "execution_count": 10,
   "metadata": {},
   "outputs": [],
   "source": [
    "path_1 = os.getcwd()+'/Merged-Table 1.csv'\n",
    "merged_future = pd.read_csv(path_1, \n",
    "                  parse_dates=['Date'],\n",
    "                  infer_datetime_format=True,\n",
    "                  dayfirst=True,\n",
    ")\n",
    "\n",
    "path_2 = os.getcwd()+'/option_premium.csv'\n",
    "\n",
    "manual_data = pd.read_csv(path_2, \n",
    "                  parse_dates=['date','Expiration'],\n",
    "                  infer_datetime_format=True,\n",
    "                  dayfirst=True\n",
    ")"
   ]
  },
  {
   "cell_type": "code",
   "execution_count": 11,
   "metadata": {},
   "outputs": [
    {
     "data": {
      "text/html": [
       "<div>\n",
       "<style scoped>\n",
       "    .dataframe tbody tr th:only-of-type {\n",
       "        vertical-align: middle;\n",
       "    }\n",
       "\n",
       "    .dataframe tbody tr th {\n",
       "        vertical-align: top;\n",
       "    }\n",
       "\n",
       "    .dataframe thead th {\n",
       "        text-align: right;\n",
       "    }\n",
       "</style>\n",
       "<table border=\"1\" class=\"dataframe\">\n",
       "  <thead>\n",
       "    <tr style=\"text-align: right;\">\n",
       "      <th></th>\n",
       "      <th>Date</th>\n",
       "      <th>Open</th>\n",
       "      <th>High</th>\n",
       "      <th>Low</th>\n",
       "      <th>Close</th>\n",
       "      <th>SP</th>\n",
       "      <th>Chg</th>\n",
       "      <th>%Chg</th>\n",
       "      <th>Vol</th>\n",
       "      <th>OI</th>\n",
       "      <th>Series</th>\n",
       "    </tr>\n",
       "  </thead>\n",
       "  <tbody>\n",
       "    <tr>\n",
       "      <th>0</th>\n",
       "      <td>2019-06-28</td>\n",
       "      <td>1,144.5</td>\n",
       "      <td>1,149.5</td>\n",
       "      <td>1,143.4</td>\n",
       "      <td>1,148.4</td>\n",
       "      <td>1,148.20</td>\n",
       "      <td>1.90</td>\n",
       "      <td>0.0017</td>\n",
       "      <td>115,738</td>\n",
       "      <td>316,223</td>\n",
       "      <td>U19</td>\n",
       "    </tr>\n",
       "    <tr>\n",
       "      <th>1</th>\n",
       "      <td>2019-07-01</td>\n",
       "      <td>1,161.9</td>\n",
       "      <td>1,163.6</td>\n",
       "      <td>1,155.4</td>\n",
       "      <td>1,157.2</td>\n",
       "      <td>1,157.30</td>\n",
       "      <td>9.10</td>\n",
       "      <td>0.0079</td>\n",
       "      <td>133,682</td>\n",
       "      <td>321,194</td>\n",
       "      <td>U19</td>\n",
       "    </tr>\n",
       "    <tr>\n",
       "      <th>2</th>\n",
       "      <td>2019-07-02</td>\n",
       "      <td>1,153.5</td>\n",
       "      <td>1,156.1</td>\n",
       "      <td>1,149.3</td>\n",
       "      <td>1,150.4</td>\n",
       "      <td>1,150.60</td>\n",
       "      <td>-6.70</td>\n",
       "      <td>-0.0058</td>\n",
       "      <td>119,790</td>\n",
       "      <td>325,410</td>\n",
       "      <td>U19</td>\n",
       "    </tr>\n",
       "    <tr>\n",
       "      <th>3</th>\n",
       "      <td>2019-07-03</td>\n",
       "      <td>1,150.0</td>\n",
       "      <td>1,155.9</td>\n",
       "      <td>1,148.1</td>\n",
       "      <td>1,153.3</td>\n",
       "      <td>1,153.20</td>\n",
       "      <td>2.60</td>\n",
       "      <td>0.0023</td>\n",
       "      <td>124,920</td>\n",
       "      <td>340,505</td>\n",
       "      <td>U19</td>\n",
       "    </tr>\n",
       "    <tr>\n",
       "      <th>4</th>\n",
       "      <td>2019-07-04</td>\n",
       "      <td>1,153.2</td>\n",
       "      <td>1,157.4</td>\n",
       "      <td>1,136.7</td>\n",
       "      <td>1,141.8</td>\n",
       "      <td>1,142.20</td>\n",
       "      <td>-11.00</td>\n",
       "      <td>-0.0095</td>\n",
       "      <td>199,165</td>\n",
       "      <td>324,931</td>\n",
       "      <td>U19</td>\n",
       "    </tr>\n",
       "  </tbody>\n",
       "</table>\n",
       "</div>"
      ],
      "text/plain": [
       "        Date     Open     High      Low    Close        SP     Chg     %Chg  \\\n",
       "0 2019-06-28  1,144.5  1,149.5  1,143.4  1,148.4  1,148.20    1.90   0.0017   \n",
       "1 2019-07-01  1,161.9  1,163.6  1,155.4  1,157.2  1,157.30    9.10   0.0079   \n",
       "2 2019-07-02  1,153.5  1,156.1  1,149.3  1,150.4  1,150.60   -6.70  -0.0058   \n",
       "3 2019-07-03  1,150.0  1,155.9  1,148.1  1,153.3  1,153.20    2.60   0.0023   \n",
       "4 2019-07-04  1,153.2  1,157.4  1,136.7  1,141.8  1,142.20  -11.00  -0.0095   \n",
       "\n",
       "       Vol       OI Series  \n",
       "0  115,738  316,223    U19  \n",
       "1  133,682  321,194    U19  \n",
       "2  119,790  325,410    U19  \n",
       "3  124,920  340,505    U19  \n",
       "4  199,165  324,931    U19  "
      ]
     },
     "execution_count": 11,
     "metadata": {},
     "output_type": "execute_result"
    }
   ],
   "source": [
    "merged_future.head()"
   ]
  },
  {
   "cell_type": "code",
   "execution_count": 12,
   "metadata": {},
   "outputs": [
    {
     "name": "stdout",
     "output_type": "stream",
     "text": [
      "<class 'pandas.core.frame.DataFrame'>\n",
      "RangeIndex: 722 entries, 0 to 721\n",
      "Data columns (total 11 columns):\n",
      " #   Column  Non-Null Count  Dtype         \n",
      "---  ------  --------------  -----         \n",
      " 0   Date    722 non-null    datetime64[ns]\n",
      " 1   Open    722 non-null    object        \n",
      " 2   High    722 non-null    object        \n",
      " 3   Low     722 non-null    object        \n",
      " 4   Close   722 non-null    object        \n",
      " 5   SP      722 non-null    object        \n",
      " 6   Chg     722 non-null    object        \n",
      " 7   %Chg    722 non-null    object        \n",
      " 8   Vol     722 non-null    object        \n",
      " 9   OI      722 non-null    object        \n",
      " 10  Series  722 non-null    object        \n",
      "dtypes: datetime64[ns](1), object(10)\n",
      "memory usage: 62.2+ KB\n"
     ]
    }
   ],
   "source": [
    "merged_future.info()"
   ]
  },
  {
   "cell_type": "code",
   "execution_count": 13,
   "metadata": {},
   "outputs": [
    {
     "data": {
      "text/html": [
       "<div>\n",
       "<style scoped>\n",
       "    .dataframe tbody tr th:only-of-type {\n",
       "        vertical-align: middle;\n",
       "    }\n",
       "\n",
       "    .dataframe tbody tr th {\n",
       "        vertical-align: top;\n",
       "    }\n",
       "\n",
       "    .dataframe thead th {\n",
       "        text-align: right;\n",
       "    }\n",
       "</style>\n",
       "<table border=\"1\" class=\"dataframe\">\n",
       "  <thead>\n",
       "    <tr style=\"text-align: right;\">\n",
       "      <th></th>\n",
       "      <th>date</th>\n",
       "      <th>Series Name</th>\n",
       "      <th>Underlying Close</th>\n",
       "      <th>Expiration</th>\n",
       "      <th>Day to expire</th>\n",
       "      <th>Underlying Change</th>\n",
       "      <th>ATM premium</th>\n",
       "      <th>+/-1 OTM premium</th>\n",
       "    </tr>\n",
       "  </thead>\n",
       "  <tbody>\n",
       "    <tr>\n",
       "      <th>0</th>\n",
       "      <td>2019-06-18</td>\n",
       "      <td>U19</td>\n",
       "      <td>1111.8</td>\n",
       "      <td>2019-09-27</td>\n",
       "      <td>101d</td>\n",
       "      <td>NaN</td>\n",
       "      <td>38.8</td>\n",
       "      <td>20.9</td>\n",
       "    </tr>\n",
       "    <tr>\n",
       "      <th>1</th>\n",
       "      <td>2019-06-19</td>\n",
       "      <td>U19</td>\n",
       "      <td>1131.2</td>\n",
       "      <td>2019-09-27</td>\n",
       "      <td>100d</td>\n",
       "      <td>19.4</td>\n",
       "      <td>39.4</td>\n",
       "      <td>22.1</td>\n",
       "    </tr>\n",
       "    <tr>\n",
       "      <th>2</th>\n",
       "      <td>2019-06-20</td>\n",
       "      <td>U19</td>\n",
       "      <td>1144.4</td>\n",
       "      <td>2019-09-27</td>\n",
       "      <td>99d</td>\n",
       "      <td>13.2</td>\n",
       "      <td>44.7</td>\n",
       "      <td>24.8</td>\n",
       "    </tr>\n",
       "    <tr>\n",
       "      <th>3</th>\n",
       "      <td>2019-06-21</td>\n",
       "      <td>U19</td>\n",
       "      <td>1141.6</td>\n",
       "      <td>2019-09-27</td>\n",
       "      <td>98d</td>\n",
       "      <td>-2.8</td>\n",
       "      <td>47.0</td>\n",
       "      <td>26.7</td>\n",
       "    </tr>\n",
       "    <tr>\n",
       "      <th>4</th>\n",
       "      <td>2019-06-24</td>\n",
       "      <td>U19</td>\n",
       "      <td>1139.2</td>\n",
       "      <td>2019-09-27</td>\n",
       "      <td>95d</td>\n",
       "      <td>-2.4</td>\n",
       "      <td>48.6</td>\n",
       "      <td>28.0</td>\n",
       "    </tr>\n",
       "  </tbody>\n",
       "</table>\n",
       "</div>"
      ],
      "text/plain": [
       "        date Series Name  Underlying Close Expiration Day to expire  \\\n",
       "0 2019-06-18         U19            1111.8 2019-09-27          101d   \n",
       "1 2019-06-19         U19            1131.2 2019-09-27          100d   \n",
       "2 2019-06-20         U19            1144.4 2019-09-27           99d   \n",
       "3 2019-06-21         U19            1141.6 2019-09-27           98d   \n",
       "4 2019-06-24         U19            1139.2 2019-09-27           95d   \n",
       "\n",
       "   Underlying Change  ATM premium  +/-1 OTM premium  \n",
       "0                NaN         38.8              20.9  \n",
       "1               19.4         39.4              22.1  \n",
       "2               13.2         44.7              24.8  \n",
       "3               -2.8         47.0              26.7  \n",
       "4               -2.4         48.6              28.0  "
      ]
     },
     "execution_count": 13,
     "metadata": {},
     "output_type": "execute_result"
    }
   ],
   "source": [
    "manual_data.head()"
   ]
  },
  {
   "cell_type": "code",
   "execution_count": 14,
   "metadata": {},
   "outputs": [
    {
     "name": "stdout",
     "output_type": "stream",
     "text": [
      "<class 'pandas.core.frame.DataFrame'>\n",
      "RangeIndex: 595 entries, 0 to 594\n",
      "Data columns (total 8 columns):\n",
      " #   Column             Non-Null Count  Dtype         \n",
      "---  ------             --------------  -----         \n",
      " 0   date               595 non-null    datetime64[ns]\n",
      " 1   Series Name        595 non-null    object        \n",
      " 2   Underlying Close   594 non-null    float64       \n",
      " 3   Expiration         595 non-null    datetime64[ns]\n",
      " 4   Day to expire      595 non-null    object        \n",
      " 5   Underlying Change  585 non-null    float64       \n",
      " 6   ATM premium        592 non-null    float64       \n",
      " 7   +/-1 OTM premium   595 non-null    float64       \n",
      "dtypes: datetime64[ns](2), float64(4), object(2)\n",
      "memory usage: 37.3+ KB\n"
     ]
    }
   ],
   "source": [
    "manual_data.info()"
   ]
  },
  {
   "cell_type": "markdown",
   "metadata": {},
   "source": [
    "Many fof the merge_future data are in from of stings. Need to change it in to float and int.\n",
    "\n",
    "Eyeballing the CSV, there are some value in **Chg** and **%Chg** are \"-\" let's see if they can be recalculated. "
   ]
  },
  {
   "cell_type": "code",
   "execution_count": 15,
   "metadata": {},
   "outputs": [
    {
     "data": {
      "text/html": [
       "<div>\n",
       "<style scoped>\n",
       "    .dataframe tbody tr th:only-of-type {\n",
       "        vertical-align: middle;\n",
       "    }\n",
       "\n",
       "    .dataframe tbody tr th {\n",
       "        vertical-align: top;\n",
       "    }\n",
       "\n",
       "    .dataframe thead th {\n",
       "        text-align: right;\n",
       "    }\n",
       "</style>\n",
       "<table border=\"1\" class=\"dataframe\">\n",
       "  <thead>\n",
       "    <tr style=\"text-align: right;\">\n",
       "      <th></th>\n",
       "      <th>Date</th>\n",
       "      <th>Open</th>\n",
       "      <th>High</th>\n",
       "      <th>Low</th>\n",
       "      <th>Close</th>\n",
       "      <th>SP</th>\n",
       "      <th>Chg</th>\n",
       "      <th>%Chg</th>\n",
       "      <th>Vol</th>\n",
       "      <th>OI</th>\n",
       "      <th>Series</th>\n",
       "    </tr>\n",
       "  </thead>\n",
       "  <tbody>\n",
       "    <tr>\n",
       "      <th>91</th>\n",
       "      <td>2019-11-11</td>\n",
       "      <td>1,097.0</td>\n",
       "      <td>1,097.5</td>\n",
       "      <td>1,090.0</td>\n",
       "      <td>1,094.2</td>\n",
       "      <td>1,094.00</td>\n",
       "      <td>-8.50</td>\n",
       "      <td>-0.0077</td>\n",
       "      <td>151,618</td>\n",
       "      <td>301,573</td>\n",
       "      <td>Z19</td>\n",
       "    </tr>\n",
       "    <tr>\n",
       "      <th>92</th>\n",
       "      <td>2019-11-12</td>\n",
       "      <td>1,094.3</td>\n",
       "      <td>1,100.8</td>\n",
       "      <td>1,092.5</td>\n",
       "      <td>1,094.0</td>\n",
       "      <td>1,094.00</td>\n",
       "      <td>-</td>\n",
       "      <td>-</td>\n",
       "      <td>141,739</td>\n",
       "      <td>295,725</td>\n",
       "      <td>Z19</td>\n",
       "    </tr>\n",
       "    <tr>\n",
       "      <th>93</th>\n",
       "      <td>2019-11-13</td>\n",
       "      <td>1,089.5</td>\n",
       "      <td>1,093.4</td>\n",
       "      <td>1,084.7</td>\n",
       "      <td>1,089.0</td>\n",
       "      <td>1,088.80</td>\n",
       "      <td>-5.20</td>\n",
       "      <td>-0.0048</td>\n",
       "      <td>165,193</td>\n",
       "      <td>291,879</td>\n",
       "      <td>Z19</td>\n",
       "    </tr>\n",
       "  </tbody>\n",
       "</table>\n",
       "</div>"
      ],
      "text/plain": [
       "         Date     Open     High      Low    Close        SP    Chg     %Chg  \\\n",
       "91 2019-11-11  1,097.0  1,097.5  1,090.0  1,094.2  1,094.00  -8.50  -0.0077   \n",
       "92 2019-11-12  1,094.3  1,100.8  1,092.5  1,094.0  1,094.00      -        -   \n",
       "93 2019-11-13  1,089.5  1,093.4  1,084.7  1,089.0  1,088.80  -5.20  -0.0048   \n",
       "\n",
       "        Vol       OI Series  \n",
       "91  151,618  301,573    Z19  \n",
       "92  141,739  295,725    Z19  \n",
       "93  165,193  291,879    Z19  "
      ]
     },
     "metadata": {},
     "output_type": "display_data"
    },
    {
     "data": {
      "text/html": [
       "<div>\n",
       "<style scoped>\n",
       "    .dataframe tbody tr th:only-of-type {\n",
       "        vertical-align: middle;\n",
       "    }\n",
       "\n",
       "    .dataframe tbody tr th {\n",
       "        vertical-align: top;\n",
       "    }\n",
       "\n",
       "    .dataframe thead th {\n",
       "        text-align: right;\n",
       "    }\n",
       "</style>\n",
       "<table border=\"1\" class=\"dataframe\">\n",
       "  <thead>\n",
       "    <tr style=\"text-align: right;\">\n",
       "      <th></th>\n",
       "      <th>Date</th>\n",
       "      <th>Open</th>\n",
       "      <th>High</th>\n",
       "      <th>Low</th>\n",
       "      <th>Close</th>\n",
       "      <th>SP</th>\n",
       "      <th>Chg</th>\n",
       "      <th>%Chg</th>\n",
       "      <th>Vol</th>\n",
       "      <th>OI</th>\n",
       "      <th>Series</th>\n",
       "    </tr>\n",
       "  </thead>\n",
       "  <tbody>\n",
       "    <tr>\n",
       "      <th>131</th>\n",
       "      <td>2020-01-13</td>\n",
       "      <td>1,071.0</td>\n",
       "      <td>1,074.5</td>\n",
       "      <td>1,068.2</td>\n",
       "      <td>1,072.0</td>\n",
       "      <td>1,071.80</td>\n",
       "      <td>3.10</td>\n",
       "      <td>0.0029</td>\n",
       "      <td>142,138</td>\n",
       "      <td>297,896</td>\n",
       "      <td>H20</td>\n",
       "    </tr>\n",
       "    <tr>\n",
       "      <th>132</th>\n",
       "      <td>2020-01-14</td>\n",
       "      <td>1,074.8</td>\n",
       "      <td>1,075.0</td>\n",
       "      <td>1,065.1</td>\n",
       "      <td>1,071.7</td>\n",
       "      <td>1,071.80</td>\n",
       "      <td>-</td>\n",
       "      <td>-</td>\n",
       "      <td>162,436</td>\n",
       "      <td>302,060</td>\n",
       "      <td>H20</td>\n",
       "    </tr>\n",
       "    <tr>\n",
       "      <th>133</th>\n",
       "      <td>2020-01-15</td>\n",
       "      <td>1,067.5</td>\n",
       "      <td>1,069.3</td>\n",
       "      <td>1,062.5</td>\n",
       "      <td>1,064.4</td>\n",
       "      <td>1,064.50</td>\n",
       "      <td>-7.30</td>\n",
       "      <td>-0.0068</td>\n",
       "      <td>152,343</td>\n",
       "      <td>308,214</td>\n",
       "      <td>H20</td>\n",
       "    </tr>\n",
       "  </tbody>\n",
       "</table>\n",
       "</div>"
      ],
      "text/plain": [
       "          Date     Open     High      Low    Close        SP    Chg     %Chg  \\\n",
       "131 2020-01-13  1,071.0  1,074.5  1,068.2  1,072.0  1,071.80   3.10   0.0029   \n",
       "132 2020-01-14  1,074.8  1,075.0  1,065.1  1,071.7  1,071.80      -        -   \n",
       "133 2020-01-15  1,067.5  1,069.3  1,062.5  1,064.4  1,064.50  -7.30  -0.0068   \n",
       "\n",
       "         Vol       OI Series  \n",
       "131  142,138  297,896    H20  \n",
       "132  162,436  302,060    H20  \n",
       "133  152,343  308,214    H20  "
      ]
     },
     "metadata": {},
     "output_type": "display_data"
    },
    {
     "data": {
      "text/html": [
       "<div>\n",
       "<style scoped>\n",
       "    .dataframe tbody tr th:only-of-type {\n",
       "        vertical-align: middle;\n",
       "    }\n",
       "\n",
       "    .dataframe tbody tr th {\n",
       "        vertical-align: top;\n",
       "    }\n",
       "\n",
       "    .dataframe thead th {\n",
       "        text-align: right;\n",
       "    }\n",
       "</style>\n",
       "<table border=\"1\" class=\"dataframe\">\n",
       "  <thead>\n",
       "    <tr style=\"text-align: right;\">\n",
       "      <th></th>\n",
       "      <th>Date</th>\n",
       "      <th>Open</th>\n",
       "      <th>High</th>\n",
       "      <th>Low</th>\n",
       "      <th>Close</th>\n",
       "      <th>SP</th>\n",
       "      <th>Chg</th>\n",
       "      <th>%Chg</th>\n",
       "      <th>Vol</th>\n",
       "      <th>OI</th>\n",
       "      <th>Series</th>\n",
       "    </tr>\n",
       "  </thead>\n",
       "  <tbody>\n",
       "    <tr>\n",
       "      <th>137</th>\n",
       "      <td>2020-01-21</td>\n",
       "      <td>1,065.5</td>\n",
       "      <td>1,068.0</td>\n",
       "      <td>1,060.1</td>\n",
       "      <td>1,060.4</td>\n",
       "      <td>1,060.50</td>\n",
       "      <td>-9.40</td>\n",
       "      <td>-0.0088</td>\n",
       "      <td>175,914</td>\n",
       "      <td>331,458</td>\n",
       "      <td>H20</td>\n",
       "    </tr>\n",
       "    <tr>\n",
       "      <th>138</th>\n",
       "      <td>2020-01-22</td>\n",
       "      <td>1,062.1</td>\n",
       "      <td>1,064.5</td>\n",
       "      <td>1,057.1</td>\n",
       "      <td>1,060.7</td>\n",
       "      <td>1,060.50</td>\n",
       "      <td>-</td>\n",
       "      <td>-</td>\n",
       "      <td>166,388</td>\n",
       "      <td>343,044</td>\n",
       "      <td>H20</td>\n",
       "    </tr>\n",
       "    <tr>\n",
       "      <th>139</th>\n",
       "      <td>2020-01-23</td>\n",
       "      <td>1,056.1</td>\n",
       "      <td>1,060.3</td>\n",
       "      <td>1,054.0</td>\n",
       "      <td>1,058.3</td>\n",
       "      <td>1,058.50</td>\n",
       "      <td>-2.00</td>\n",
       "      <td>-0.0019</td>\n",
       "      <td>121,237</td>\n",
       "      <td>338,445</td>\n",
       "      <td>H20</td>\n",
       "    </tr>\n",
       "  </tbody>\n",
       "</table>\n",
       "</div>"
      ],
      "text/plain": [
       "          Date     Open     High      Low    Close        SP    Chg     %Chg  \\\n",
       "137 2020-01-21  1,065.5  1,068.0  1,060.1  1,060.4  1,060.50  -9.40  -0.0088   \n",
       "138 2020-01-22  1,062.1  1,064.5  1,057.1  1,060.7  1,060.50      -        -   \n",
       "139 2020-01-23  1,056.1  1,060.3  1,054.0  1,058.3  1,058.50  -2.00  -0.0019   \n",
       "\n",
       "         Vol       OI Series  \n",
       "137  175,914  331,458    H20  \n",
       "138  166,388  343,044    H20  \n",
       "139  121,237  338,445    H20  "
      ]
     },
     "metadata": {},
     "output_type": "display_data"
    },
    {
     "data": {
      "text/html": [
       "<div>\n",
       "<style scoped>\n",
       "    .dataframe tbody tr th:only-of-type {\n",
       "        vertical-align: middle;\n",
       "    }\n",
       "\n",
       "    .dataframe tbody tr th {\n",
       "        vertical-align: top;\n",
       "    }\n",
       "\n",
       "    .dataframe thead th {\n",
       "        text-align: right;\n",
       "    }\n",
       "</style>\n",
       "<table border=\"1\" class=\"dataframe\">\n",
       "  <thead>\n",
       "    <tr style=\"text-align: right;\">\n",
       "      <th></th>\n",
       "      <th>Date</th>\n",
       "      <th>Open</th>\n",
       "      <th>High</th>\n",
       "      <th>Low</th>\n",
       "      <th>Close</th>\n",
       "      <th>SP</th>\n",
       "      <th>Chg</th>\n",
       "      <th>%Chg</th>\n",
       "      <th>Vol</th>\n",
       "      <th>OI</th>\n",
       "      <th>Series</th>\n",
       "    </tr>\n",
       "  </thead>\n",
       "  <tbody>\n",
       "    <tr>\n",
       "      <th>239</th>\n",
       "      <td>2020-06-22</td>\n",
       "      <td>902.0</td>\n",
       "      <td>903.6</td>\n",
       "      <td>890.2</td>\n",
       "      <td>897.0</td>\n",
       "      <td>896.80</td>\n",
       "      <td>-13.20</td>\n",
       "      <td>-0.0145</td>\n",
       "      <td>130,194</td>\n",
       "      <td>196,844</td>\n",
       "      <td>M20</td>\n",
       "    </tr>\n",
       "    <tr>\n",
       "      <th>240</th>\n",
       "      <td>2020-06-23</td>\n",
       "      <td>896.6</td>\n",
       "      <td>900.8</td>\n",
       "      <td>893.2</td>\n",
       "      <td>896.6</td>\n",
       "      <td>896.80</td>\n",
       "      <td>-</td>\n",
       "      <td>-</td>\n",
       "      <td>100,486</td>\n",
       "      <td>186,305</td>\n",
       "      <td>M20</td>\n",
       "    </tr>\n",
       "    <tr>\n",
       "      <th>241</th>\n",
       "      <td>2020-06-24</td>\n",
       "      <td>899.0</td>\n",
       "      <td>902.7</td>\n",
       "      <td>877.1</td>\n",
       "      <td>877.1</td>\n",
       "      <td>878.90</td>\n",
       "      <td>-17.90</td>\n",
       "      <td>-0.02</td>\n",
       "      <td>169,755</td>\n",
       "      <td>190,212</td>\n",
       "      <td>M20</td>\n",
       "    </tr>\n",
       "  </tbody>\n",
       "</table>\n",
       "</div>"
      ],
      "text/plain": [
       "          Date   Open   High    Low  Close      SP     Chg     %Chg      Vol  \\\n",
       "239 2020-06-22  902.0  903.6  890.2  897.0  896.80  -13.20  -0.0145  130,194   \n",
       "240 2020-06-23  896.6  900.8  893.2  896.6  896.80       -        -  100,486   \n",
       "241 2020-06-24  899.0  902.7  877.1  877.1  878.90  -17.90    -0.02  169,755   \n",
       "\n",
       "          OI Series  \n",
       "239  196,844    M20  \n",
       "240  186,305    M20  \n",
       "241  190,212    M20  "
      ]
     },
     "metadata": {},
     "output_type": "display_data"
    },
    {
     "data": {
      "text/html": [
       "<div>\n",
       "<style scoped>\n",
       "    .dataframe tbody tr th:only-of-type {\n",
       "        vertical-align: middle;\n",
       "    }\n",
       "\n",
       "    .dataframe tbody tr th {\n",
       "        vertical-align: top;\n",
       "    }\n",
       "\n",
       "    .dataframe thead th {\n",
       "        text-align: right;\n",
       "    }\n",
       "</style>\n",
       "<table border=\"1\" class=\"dataframe\">\n",
       "  <thead>\n",
       "    <tr style=\"text-align: right;\">\n",
       "      <th></th>\n",
       "      <th>Date</th>\n",
       "      <th>Open</th>\n",
       "      <th>High</th>\n",
       "      <th>Low</th>\n",
       "      <th>Close</th>\n",
       "      <th>SP</th>\n",
       "      <th>Chg</th>\n",
       "      <th>%Chg</th>\n",
       "      <th>Vol</th>\n",
       "      <th>OI</th>\n",
       "      <th>Series</th>\n",
       "    </tr>\n",
       "  </thead>\n",
       "  <tbody>\n",
       "    <tr>\n",
       "      <th>551</th>\n",
       "      <td>2021-10-12</td>\n",
       "      <td>985.7</td>\n",
       "      <td>991.0</td>\n",
       "      <td>982.6</td>\n",
       "      <td>987.6</td>\n",
       "      <td>987.40</td>\n",
       "      <td>6.20</td>\n",
       "      <td>0.0063</td>\n",
       "      <td>129,675</td>\n",
       "      <td>343,351</td>\n",
       "      <td>Z21</td>\n",
       "    </tr>\n",
       "    <tr>\n",
       "      <th>552</th>\n",
       "      <td>2021-10-14</td>\n",
       "      <td>993.0</td>\n",
       "      <td>994.0</td>\n",
       "      <td>983.3</td>\n",
       "      <td>987.9</td>\n",
       "      <td>987.40</td>\n",
       "      <td>-</td>\n",
       "      <td>-</td>\n",
       "      <td>145,559</td>\n",
       "      <td>347,819</td>\n",
       "      <td>Z21</td>\n",
       "    </tr>\n",
       "    <tr>\n",
       "      <th>553</th>\n",
       "      <td>2021-10-15</td>\n",
       "      <td>989.0</td>\n",
       "      <td>992.0</td>\n",
       "      <td>984.5</td>\n",
       "      <td>986.5</td>\n",
       "      <td>986.50</td>\n",
       "      <td>-0.90</td>\n",
       "      <td>-0.0009</td>\n",
       "      <td>125,500</td>\n",
       "      <td>349,164</td>\n",
       "      <td>Z21</td>\n",
       "    </tr>\n",
       "  </tbody>\n",
       "</table>\n",
       "</div>"
      ],
      "text/plain": [
       "          Date   Open   High    Low  Close      SP    Chg     %Chg      Vol  \\\n",
       "551 2021-10-12  985.7  991.0  982.6  987.6  987.40   6.20   0.0063  129,675   \n",
       "552 2021-10-14  993.0  994.0  983.3  987.9  987.40      -        -  145,559   \n",
       "553 2021-10-15  989.0  992.0  984.5  986.5  986.50  -0.90  -0.0009  125,500   \n",
       "\n",
       "          OI Series  \n",
       "551  343,351    Z21  \n",
       "552  347,819    Z21  \n",
       "553  349,164    Z21  "
      ]
     },
     "metadata": {},
     "output_type": "display_data"
    }
   ],
   "source": [
    "for i in merged_future.loc[(merged_future['Chg'] == '-') | (merged_future['%Chg']=='-')].index:\n",
    "    display(merged_future.loc[i-1:i+1])"
   ]
  },
  {
   "cell_type": "markdown",
   "metadata": {},
   "source": [
    "Seems like the recalculation is possible. Let's change the dtype to string."
   ]
  },
  {
   "cell_type": "code",
   "execution_count": 16,
   "metadata": {},
   "outputs": [
    {
     "data": {
      "text/plain": [
       "array(['Date', 'Open', 'High', 'Low', 'Close', 'SP', 'Chg', '%Chg', 'Vol',\n",
       "       'OI', 'Series'], dtype=object)"
      ]
     },
     "execution_count": 16,
     "metadata": {},
     "output_type": "execute_result"
    }
   ],
   "source": [
    "merged_future.columns.values"
   ]
  },
  {
   "cell_type": "code",
   "execution_count": 20,
   "metadata": {},
   "outputs": [
    {
     "ename": "AttributeError",
     "evalue": "'float' object has no attribute 'replace'",
     "output_type": "error",
     "traceback": [
      "\u001b[0;31m---------------------------------------------------------------------------\u001b[0m",
      "\u001b[0;31mAttributeError\u001b[0m                            Traceback (most recent call last)",
      "\u001b[1;32m/Users/mynameisnak/Desktop/options project pull/options_analysis/options_analytics.ipynb Cell 15'\u001b[0m in \u001b[0;36m<cell line: 3>\u001b[0;34m()\u001b[0m\n\u001b[1;32m      <a href='vscode-notebook-cell:/Users/mynameisnak/Desktop/options%20project%20pull/options_analysis/options_analytics.ipynb#ch0000044?line=3'>4</a>\u001b[0m \u001b[39mfor\u001b[39;00m i \u001b[39min\u001b[39;00m merged_future\u001b[39m.\u001b[39mindex:\n\u001b[1;32m      <a href='vscode-notebook-cell:/Users/mynameisnak/Desktop/options%20project%20pull/options_analysis/options_analytics.ipynb#ch0000044?line=4'>5</a>\u001b[0m     \u001b[39mif\u001b[39;00m merged_future\u001b[39m.\u001b[39mloc[i, \u001b[39m'\u001b[39m\u001b[39mChg\u001b[39m\u001b[39m'\u001b[39m] \u001b[39m!=\u001b[39m \u001b[39m'\u001b[39m\u001b[39m-\u001b[39m\u001b[39m'\u001b[39m:\n\u001b[0;32m----> <a href='vscode-notebook-cell:/Users/mynameisnak/Desktop/options%20project%20pull/options_analysis/options_analytics.ipynb#ch0000044?line=5'>6</a>\u001b[0m         merged_future[col]\u001b[39m=\u001b[39m[\u001b[39mfloat\u001b[39m(x\u001b[39m.\u001b[39mreplace(\u001b[39m'\u001b[39m\u001b[39m\"\u001b[39m\u001b[39m'\u001b[39m, \u001b[39m'\u001b[39m\u001b[39m'\u001b[39m)\u001b[39m.\u001b[39mreplace(\u001b[39m'\u001b[39m\u001b[39m,\u001b[39m\u001b[39m'\u001b[39m, \u001b[39m'\u001b[39m\u001b[39m'\u001b[39m)) \u001b[39mfor\u001b[39;00m x \u001b[39min\u001b[39;00m merged_future[col]]\n\u001b[1;32m      <a href='vscode-notebook-cell:/Users/mynameisnak/Desktop/options%20project%20pull/options_analysis/options_analytics.ipynb#ch0000044?line=6'>7</a>\u001b[0m     \u001b[39melse\u001b[39;00m:\n\u001b[1;32m      <a href='vscode-notebook-cell:/Users/mynameisnak/Desktop/options%20project%20pull/options_analysis/options_analytics.ipynb#ch0000044?line=7'>8</a>\u001b[0m         merged_future\u001b[39m.\u001b[39mloc[i, \u001b[39m'\u001b[39m\u001b[39mChg\u001b[39m\u001b[39m'\u001b[39m] \u001b[39m=\u001b[39m \u001b[39m999.999\u001b[39m \u001b[39m#temp\u001b[39;00m\n",
      "\u001b[1;32m/Users/mynameisnak/Desktop/options project pull/options_analysis/options_analytics.ipynb Cell 15'\u001b[0m in \u001b[0;36m<listcomp>\u001b[0;34m(.0)\u001b[0m\n\u001b[1;32m      <a href='vscode-notebook-cell:/Users/mynameisnak/Desktop/options%20project%20pull/options_analysis/options_analytics.ipynb#ch0000044?line=3'>4</a>\u001b[0m \u001b[39mfor\u001b[39;00m i \u001b[39min\u001b[39;00m merged_future\u001b[39m.\u001b[39mindex:\n\u001b[1;32m      <a href='vscode-notebook-cell:/Users/mynameisnak/Desktop/options%20project%20pull/options_analysis/options_analytics.ipynb#ch0000044?line=4'>5</a>\u001b[0m     \u001b[39mif\u001b[39;00m merged_future\u001b[39m.\u001b[39mloc[i, \u001b[39m'\u001b[39m\u001b[39mChg\u001b[39m\u001b[39m'\u001b[39m] \u001b[39m!=\u001b[39m \u001b[39m'\u001b[39m\u001b[39m-\u001b[39m\u001b[39m'\u001b[39m:\n\u001b[0;32m----> <a href='vscode-notebook-cell:/Users/mynameisnak/Desktop/options%20project%20pull/options_analysis/options_analytics.ipynb#ch0000044?line=5'>6</a>\u001b[0m         merged_future[col]\u001b[39m=\u001b[39m[\u001b[39mfloat\u001b[39m(x\u001b[39m.\u001b[39;49mreplace(\u001b[39m'\u001b[39m\u001b[39m\"\u001b[39m\u001b[39m'\u001b[39m, \u001b[39m'\u001b[39m\u001b[39m'\u001b[39m)\u001b[39m.\u001b[39mreplace(\u001b[39m'\u001b[39m\u001b[39m,\u001b[39m\u001b[39m'\u001b[39m, \u001b[39m'\u001b[39m\u001b[39m'\u001b[39m)) \u001b[39mfor\u001b[39;00m x \u001b[39min\u001b[39;00m merged_future[col]]\n\u001b[1;32m      <a href='vscode-notebook-cell:/Users/mynameisnak/Desktop/options%20project%20pull/options_analysis/options_analytics.ipynb#ch0000044?line=6'>7</a>\u001b[0m     \u001b[39melse\u001b[39;00m:\n\u001b[1;32m      <a href='vscode-notebook-cell:/Users/mynameisnak/Desktop/options%20project%20pull/options_analysis/options_analytics.ipynb#ch0000044?line=7'>8</a>\u001b[0m         merged_future\u001b[39m.\u001b[39mloc[i, \u001b[39m'\u001b[39m\u001b[39mChg\u001b[39m\u001b[39m'\u001b[39m] \u001b[39m=\u001b[39m \u001b[39m999.999\u001b[39m \u001b[39m#temp\u001b[39;00m\n",
      "\u001b[0;31mAttributeError\u001b[0m: 'float' object has no attribute 'replace'"
     ]
    }
   ],
   "source": [
    "#dash_index = merged_future.loc[(merged_future['Chg'] == '-') | (merged_future['%Chg']=='-')].index\n",
    "\n",
    "for col in ['Open', 'High', 'Low', 'Close', 'SP', 'Chg','%Chg']:\n",
    "    for i in merged_future.index:\n",
    "        if merged_future.loc[i, 'Chg'] != '-':\n",
    "            merged_future[col]=[float(x.replace('\"', '').replace(',', '')) for x in merged_future[col]]\n",
    "        else:\n",
    "            merged_future.loc[i, 'Chg'] = 999.999 #temp\n",
    "            merged_future.loc[i, '%Chg'] = 999.999 #temp\n",
    "            merged_future.loc[i, 'Chg'] = merged_future.loc[i, 'SP'] - merged_future.loc[i-1, 'SP']\n",
    "            merged_future.loc[i, '%Chg'] = (merged_future.loc[i, 'SP'] - merged_future.loc[i-1, 'SP'])/merged_future.loc[i-1, 'SP']"
   ]
  },
  {
   "cell_type": "code",
   "execution_count": 18,
   "metadata": {},
   "outputs": [],
   "source": [
    "for i in merged_future.loc[(merged_future['Chg'] == '-') | (merged_future['%Chg']=='-')].index:\n",
    "    merged_future.loc[i, 'Chg'] = merged_future.loc[i, 'SP'] - merged_future.loc[i-1, 'SP']\n",
    "    merged_future.loc[i, '%Chg'] = (merged_future.loc[i, 'SP'] - merged_future.loc[i-1, 'SP'])/(merged_future.loc[i-1, 'SP'])\n"
   ]
  },
  {
   "cell_type": "code",
   "execution_count": 181,
   "metadata": {},
   "outputs": [
    {
     "name": "stdout",
     "output_type": "stream",
     "text": [
      "<class 'pandas.core.frame.DataFrame'>\n",
      "RangeIndex: 722 entries, 0 to 721\n",
      "Data columns (total 11 columns):\n",
      " #   Column  Non-Null Count  Dtype         \n",
      "---  ------  --------------  -----         \n",
      " 0   Date    722 non-null    datetime64[ns]\n",
      " 1   Open    722 non-null    float64       \n",
      " 2   High    722 non-null    float64       \n",
      " 3   Low     722 non-null    float64       \n",
      " 4   Close   722 non-null    float64       \n",
      " 5   SP      722 non-null    float64       \n",
      " 6   Chg     722 non-null    object        \n",
      " 7   %Chg    722 non-null    object        \n",
      " 8   Vol     722 non-null    object        \n",
      " 9   OI      722 non-null    object        \n",
      " 10  Series  722 non-null    object        \n",
      "dtypes: datetime64[ns](1), float64(5), object(5)\n",
      "memory usage: 62.2+ KB\n"
     ]
    }
   ],
   "source": [
    "merged_future.info()"
   ]
  },
  {
   "cell_type": "markdown",
   "metadata": {},
   "source": [
    "\"merged_future\" contains 722 observations from SET50 Index Future from 2019 to 2022.\n",
    "\"manual_data\" contains 595 observations from SET0 Index Future and Options from 2019 to 2021.\n",
    "\n",
    "Since \"merged_future\" contains better Future Contracts trading data, The plan is to validate the data and merge two tables into one using Future data from \"merged_future\" and Options data from \"manual_data\"."
   ]
  },
  {
   "cell_type": "markdown",
   "metadata": {},
   "source": [
    "### Check and Validate data"
   ]
  },
  {
   "cell_type": "code",
   "execution_count": 85,
   "metadata": {},
   "outputs": [
    {
     "data": {
      "text/plain": [
       "Date      0\n",
       "Open      0\n",
       "High      0\n",
       "Low       0\n",
       "Close     0\n",
       "SP        0\n",
       "Chg       0\n",
       "%Chg      0\n",
       "Vol       0\n",
       "OI        0\n",
       "Series    0\n",
       "dtype: int64"
      ]
     },
     "execution_count": 85,
     "metadata": {},
     "output_type": "execute_result"
    }
   ],
   "source": [
    "merged_future.isna().sum()"
   ]
  },
  {
   "cell_type": "code",
   "execution_count": 86,
   "metadata": {},
   "outputs": [
    {
     "data": {
      "text/plain": [
       "date                  0\n",
       "Series Name           0\n",
       "Underlying Close      1\n",
       "Expiration            0\n",
       "Day to expire         0\n",
       "Underlying Change    10\n",
       "ATM premium           3\n",
       "+/-1 OTM premium      0\n",
       "dtype: int64"
      ]
     },
     "execution_count": 86,
     "metadata": {},
     "output_type": "execute_result"
    }
   ],
   "source": [
    "manual_data.isna().sum()"
   ]
  },
  {
   "cell_type": "markdown",
   "metadata": {},
   "source": [
    "Only some data from the manually collected data are missing. For the missing \"Underlying Close\" and \"Underlying Change\" , we can replace with the \"Close\" and \"Chg\" from the other dataset.\n",
    "\n",
    "Let's see the missing \"ATM premium\"."
   ]
  },
  {
   "cell_type": "code",
   "execution_count": 87,
   "metadata": {},
   "outputs": [
    {
     "data": {
      "text/html": [
       "<div>\n",
       "<style scoped>\n",
       "    .dataframe tbody tr th:only-of-type {\n",
       "        vertical-align: middle;\n",
       "    }\n",
       "\n",
       "    .dataframe tbody tr th {\n",
       "        vertical-align: top;\n",
       "    }\n",
       "\n",
       "    .dataframe thead th {\n",
       "        text-align: right;\n",
       "    }\n",
       "</style>\n",
       "<table border=\"1\" class=\"dataframe\">\n",
       "  <thead>\n",
       "    <tr style=\"text-align: right;\">\n",
       "      <th></th>\n",
       "      <th>date</th>\n",
       "      <th>Series Name</th>\n",
       "      <th>Underlying Close</th>\n",
       "      <th>Expiration</th>\n",
       "      <th>Day to expire</th>\n",
       "      <th>Underlying Change</th>\n",
       "      <th>ATM premium</th>\n",
       "      <th>+/-1 OTM premium</th>\n",
       "    </tr>\n",
       "  </thead>\n",
       "  <tbody>\n",
       "    <tr>\n",
       "      <th>188</th>\n",
       "      <td>2020-03-09</td>\n",
       "      <td>H20</td>\n",
       "      <td>822.3</td>\n",
       "      <td>2020-03-30</td>\n",
       "      <td>21d</td>\n",
       "      <td>-92.3</td>\n",
       "      <td>NaN</td>\n",
       "      <td>0.0</td>\n",
       "    </tr>\n",
       "    <tr>\n",
       "      <th>191</th>\n",
       "      <td>2020-03-12</td>\n",
       "      <td>H20</td>\n",
       "      <td>724.1</td>\n",
       "      <td>2020-03-30</td>\n",
       "      <td>18d</td>\n",
       "      <td>-97.6</td>\n",
       "      <td>NaN</td>\n",
       "      <td>0.0</td>\n",
       "    </tr>\n",
       "    <tr>\n",
       "      <th>204</th>\n",
       "      <td>2020-03-23</td>\n",
       "      <td>M20</td>\n",
       "      <td>663.1</td>\n",
       "      <td>2020-06-29</td>\n",
       "      <td>98d</td>\n",
       "      <td>NaN</td>\n",
       "      <td>NaN</td>\n",
       "      <td>119.0</td>\n",
       "    </tr>\n",
       "  </tbody>\n",
       "</table>\n",
       "</div>"
      ],
      "text/plain": [
       "          date Series Name  Underlying Close Expiration Day to expire  \\\n",
       "188 2020-03-09         H20             822.3 2020-03-30           21d   \n",
       "191 2020-03-12         H20             724.1 2020-03-30           18d   \n",
       "204 2020-03-23         M20             663.1 2020-06-29           98d   \n",
       "\n",
       "     Underlying Change  ATM premium  +/-1 OTM premium  \n",
       "188              -92.3          NaN               0.0  \n",
       "191              -97.6          NaN               0.0  \n",
       "204                NaN          NaN             119.0  "
      ]
     },
     "execution_count": 87,
     "metadata": {},
     "output_type": "execute_result"
    }
   ],
   "source": [
    "manual_data.loc[manual_data['ATM premium'].isna()]"
   ]
  },
  {
   "cell_type": "markdown",
   "metadata": {},
   "source": [
    "For the entries at \n",
    "\n",
    "* 2020-03-09 \n",
    "* 2020-03-12\n",
    "* 2020-03-23 \n",
    "\n",
    "those are very special case when COVID-19 crash the global market. The market actually crash and [Circuit Breaker](https://www.investopedia.com/terms/c/circuitbreaker.asp) was implimented on those three days. The Options market maker stop providing liquidity. Thus, those three very rare occasions should be dropped."
   ]
  },
  {
   "cell_type": "code",
   "execution_count": 88,
   "metadata": {},
   "outputs": [],
   "source": [
    "manual_data.dropna(inplace=True)"
   ]
  },
  {
   "cell_type": "markdown",
   "metadata": {},
   "source": [
    "### Check Entry Duplications"
   ]
  },
  {
   "cell_type": "code",
   "execution_count": 89,
   "metadata": {},
   "outputs": [
    {
     "data": {
      "text/html": [
       "<div>\n",
       "<style scoped>\n",
       "    .dataframe tbody tr th:only-of-type {\n",
       "        vertical-align: middle;\n",
       "    }\n",
       "\n",
       "    .dataframe tbody tr th {\n",
       "        vertical-align: top;\n",
       "    }\n",
       "\n",
       "    .dataframe thead th {\n",
       "        text-align: right;\n",
       "    }\n",
       "</style>\n",
       "<table border=\"1\" class=\"dataframe\">\n",
       "  <thead>\n",
       "    <tr style=\"text-align: right;\">\n",
       "      <th></th>\n",
       "      <th>date</th>\n",
       "      <th>Series Name</th>\n",
       "      <th>Underlying Close</th>\n",
       "      <th>Expiration</th>\n",
       "      <th>Day to expire</th>\n",
       "      <th>Underlying Change</th>\n",
       "      <th>ATM premium</th>\n",
       "      <th>+/-1 OTM premium</th>\n",
       "    </tr>\n",
       "  </thead>\n",
       "  <tbody>\n",
       "  </tbody>\n",
       "</table>\n",
       "</div>"
      ],
      "text/plain": [
       "Empty DataFrame\n",
       "Columns: [date, Series Name, Underlying Close, Expiration, Day to expire, Underlying Change, ATM premium, +/-1 OTM premium]\n",
       "Index: []"
      ]
     },
     "execution_count": 89,
     "metadata": {},
     "output_type": "execute_result"
    }
   ],
   "source": [
    "manual_data.loc[manual_data.duplicated()]"
   ]
  },
  {
   "cell_type": "code",
   "execution_count": 90,
   "metadata": {},
   "outputs": [
    {
     "data": {
      "text/html": [
       "<div>\n",
       "<style scoped>\n",
       "    .dataframe tbody tr th:only-of-type {\n",
       "        vertical-align: middle;\n",
       "    }\n",
       "\n",
       "    .dataframe tbody tr th {\n",
       "        vertical-align: top;\n",
       "    }\n",
       "\n",
       "    .dataframe thead th {\n",
       "        text-align: right;\n",
       "    }\n",
       "</style>\n",
       "<table border=\"1\" class=\"dataframe\">\n",
       "  <thead>\n",
       "    <tr style=\"text-align: right;\">\n",
       "      <th></th>\n",
       "      <th>Date</th>\n",
       "      <th>Open</th>\n",
       "      <th>High</th>\n",
       "      <th>Low</th>\n",
       "      <th>Close</th>\n",
       "      <th>SP</th>\n",
       "      <th>Chg</th>\n",
       "      <th>%Chg</th>\n",
       "      <th>Vol</th>\n",
       "      <th>OI</th>\n",
       "      <th>Series</th>\n",
       "    </tr>\n",
       "  </thead>\n",
       "  <tbody>\n",
       "  </tbody>\n",
       "</table>\n",
       "</div>"
      ],
      "text/plain": [
       "Empty DataFrame\n",
       "Columns: [Date, Open, High, Low, Close, SP, Chg, %Chg, Vol, OI, Series]\n",
       "Index: []"
      ]
     },
     "execution_count": 90,
     "metadata": {},
     "output_type": "execute_result"
    }
   ],
   "source": [
    "merged_future.loc[merged_future.duplicated()]"
   ]
  },
  {
   "cell_type": "markdown",
   "metadata": {},
   "source": [
    "### Merge Data\n",
    "\n",
    "Will use date and Series as merging keys and extract only the needed columns."
   ]
  },
  {
   "cell_type": "code",
   "execution_count": 91,
   "metadata": {},
   "outputs": [
    {
     "data": {
      "text/html": [
       "<div>\n",
       "<style scoped>\n",
       "    .dataframe tbody tr th:only-of-type {\n",
       "        vertical-align: middle;\n",
       "    }\n",
       "\n",
       "    .dataframe tbody tr th {\n",
       "        vertical-align: top;\n",
       "    }\n",
       "\n",
       "    .dataframe thead th {\n",
       "        text-align: right;\n",
       "    }\n",
       "</style>\n",
       "<table border=\"1\" class=\"dataframe\">\n",
       "  <thead>\n",
       "    <tr style=\"text-align: right;\">\n",
       "      <th></th>\n",
       "      <th>date</th>\n",
       "      <th>Series Name</th>\n",
       "      <th>Underlying Close</th>\n",
       "      <th>Expiration</th>\n",
       "      <th>Day to expire</th>\n",
       "      <th>Underlying Change</th>\n",
       "      <th>ATM premium</th>\n",
       "      <th>+/-1 OTM premium</th>\n",
       "      <th>Date</th>\n",
       "      <th>Open</th>\n",
       "      <th>High</th>\n",
       "      <th>Low</th>\n",
       "      <th>Close</th>\n",
       "      <th>SP</th>\n",
       "      <th>Chg</th>\n",
       "      <th>%Chg</th>\n",
       "      <th>Vol</th>\n",
       "      <th>OI</th>\n",
       "      <th>Series</th>\n",
       "    </tr>\n",
       "  </thead>\n",
       "  <tbody>\n",
       "    <tr>\n",
       "      <th>0</th>\n",
       "      <td>2019-06-28</td>\n",
       "      <td>U19</td>\n",
       "      <td>1148.4</td>\n",
       "      <td>2019-09-27</td>\n",
       "      <td>91d</td>\n",
       "      <td>3.2</td>\n",
       "      <td>43.8</td>\n",
       "      <td>24.4</td>\n",
       "      <td>2019-06-28</td>\n",
       "      <td>1,144.5</td>\n",
       "      <td>1,149.5</td>\n",
       "      <td>1,143.4</td>\n",
       "      <td>1,148.4</td>\n",
       "      <td>1,148.20</td>\n",
       "      <td>1.90</td>\n",
       "      <td>0.17%</td>\n",
       "      <td>115,738</td>\n",
       "      <td>316,223</td>\n",
       "      <td>U19</td>\n",
       "    </tr>\n",
       "    <tr>\n",
       "      <th>1</th>\n",
       "      <td>2019-07-01</td>\n",
       "      <td>U19</td>\n",
       "      <td>1157.2</td>\n",
       "      <td>2019-09-27</td>\n",
       "      <td>88d</td>\n",
       "      <td>8.8</td>\n",
       "      <td>42.3</td>\n",
       "      <td>21.7</td>\n",
       "      <td>2019-07-01</td>\n",
       "      <td>1,161.9</td>\n",
       "      <td>1,163.6</td>\n",
       "      <td>1,155.4</td>\n",
       "      <td>1,157.2</td>\n",
       "      <td>1,157.30</td>\n",
       "      <td>9.10</td>\n",
       "      <td>0.79%</td>\n",
       "      <td>133,682</td>\n",
       "      <td>321,194</td>\n",
       "      <td>U19</td>\n",
       "    </tr>\n",
       "    <tr>\n",
       "      <th>2</th>\n",
       "      <td>2019-07-02</td>\n",
       "      <td>U19</td>\n",
       "      <td>1150.4</td>\n",
       "      <td>2019-09-27</td>\n",
       "      <td>87d</td>\n",
       "      <td>-6.8</td>\n",
       "      <td>40.8</td>\n",
       "      <td>20.7</td>\n",
       "      <td>2019-07-02</td>\n",
       "      <td>1,153.5</td>\n",
       "      <td>1,156.1</td>\n",
       "      <td>1,149.3</td>\n",
       "      <td>1,150.4</td>\n",
       "      <td>1,150.60</td>\n",
       "      <td>-6.70</td>\n",
       "      <td>-0.58%</td>\n",
       "      <td>119,790</td>\n",
       "      <td>325,410</td>\n",
       "      <td>U19</td>\n",
       "    </tr>\n",
       "  </tbody>\n",
       "</table>\n",
       "</div>"
      ],
      "text/plain": [
       "        date Series Name  Underlying Close Expiration Day to expire  \\\n",
       "0 2019-06-28         U19            1148.4 2019-09-27           91d   \n",
       "1 2019-07-01         U19            1157.2 2019-09-27           88d   \n",
       "2 2019-07-02         U19            1150.4 2019-09-27           87d   \n",
       "\n",
       "   Underlying Change  ATM premium  +/-1 OTM premium       Date     Open  \\\n",
       "0                3.2         43.8              24.4 2019-06-28  1,144.5   \n",
       "1                8.8         42.3              21.7 2019-07-01  1,161.9   \n",
       "2               -6.8         40.8              20.7 2019-07-02  1,153.5   \n",
       "\n",
       "      High      Low    Close        SP    Chg    %Chg      Vol       OI Series  \n",
       "0  1,149.5  1,143.4  1,148.4  1,148.20   1.90   0.17%  115,738  316,223    U19  \n",
       "1  1,163.6  1,155.4  1,157.2  1,157.30   9.10   0.79%  133,682  321,194    U19  \n",
       "2  1,156.1  1,149.3  1,150.4  1,150.60  -6.70  -0.58%  119,790  325,410    U19  "
      ]
     },
     "execution_count": 91,
     "metadata": {},
     "output_type": "execute_result"
    }
   ],
   "source": [
    "merged_future_options = pd.merge(left=manual_data,right=merged_future,left_on=['date','Series Name'],right_on=['Date','Series'])\n",
    "merged_future_options.head(3)"
   ]
  },
  {
   "cell_type": "code",
   "execution_count": 92,
   "metadata": {},
   "outputs": [
    {
     "data": {
      "text/plain": [
       "30"
      ]
     },
     "execution_count": 92,
     "metadata": {},
     "output_type": "execute_result"
    }
   ],
   "source": [
    "a = list(merged_future.columns) #all columns taken \n",
    "a.extend(['Expiration','Day to expire','ATM premium','+/-1 OTM premium']) #extend with only needed column from another dataset.\n",
    "ready_df = merged_future_options[a]\n",
    "\n",
    "# delete the unused variable\n",
    "del [path_1,path_2,merged_future,manual_data,merged_future_options]\n",
    "gc.collect()"
   ]
  },
  {
   "cell_type": "code",
   "execution_count": 95,
   "metadata": {},
   "outputs": [
    {
     "name": "stdout",
     "output_type": "stream",
     "text": [
      "<class 'pandas.core.frame.DataFrame'>\n",
      "Int64Index: 525 entries, 0 to 524\n",
      "Data columns (total 15 columns):\n",
      " #   Column            Non-Null Count  Dtype         \n",
      "---  ------            --------------  -----         \n",
      " 0   Date              525 non-null    datetime64[ns]\n",
      " 1   Open              525 non-null    object        \n",
      " 2   High              525 non-null    object        \n",
      " 3   Low               525 non-null    object        \n",
      " 4   Close             525 non-null    object        \n",
      " 5   SP                525 non-null    object        \n",
      " 6   Chg               525 non-null    object        \n",
      " 7   %Chg              525 non-null    object        \n",
      " 8   Vol               525 non-null    object        \n",
      " 9   OI                525 non-null    object        \n",
      " 10  Series            525 non-null    object        \n",
      " 11  Expiration        525 non-null    datetime64[ns]\n",
      " 12  Day to expire     525 non-null    object        \n",
      " 13  ATM premium       525 non-null    float64       \n",
      " 14  +/-1 OTM premium  525 non-null    float64       \n",
      "dtypes: datetime64[ns](2), float64(2), object(11)\n",
      "memory usage: 65.6+ KB\n"
     ]
    }
   ],
   "source": [
    "ready_df.info()"
   ]
  },
  {
   "cell_type": "code",
   "execution_count": 116,
   "metadata": {},
   "outputs": [
    {
     "data": {
      "text/plain": [
       "str"
      ]
     },
     "execution_count": 116,
     "metadata": {},
     "output_type": "execute_result"
    }
   ],
   "source": [
    "type(ready_df.Close[1])"
   ]
  },
  {
   "cell_type": "markdown",
   "metadata": {},
   "source": [
    "### EDA\n",
    "\n",
    "First let's see the underlying price movement."
   ]
  },
  {
   "cell_type": "code",
   "execution_count": 112,
   "metadata": {},
   "outputs": [
    {
     "data": {
      "image/png": "[encoded data removed]",
      "text/plain": [
       "<Figure size 432x288 with 1 Axes>"
      ]
     },
     "metadata": {
      "needs_background": "light"
     },
     "output_type": "display_data"
    }
   ],
   "source": [
    "plt.figure()\n",
    "plt.title('SET 50 Future')\n",
    "#sns.lineplot(x=ready_df['Date'],y=ready_df['Close'],data=ready_df,hue='Series')\n",
    "plt.plot(ready_df.loc[50:60, 'Date'],ready_df.loc[50:60, 'Close'])\n",
    "plt.xticks(rotation=90)\n",
    "plt.show()"
   ]
  },
  {
   "cell_type": "code",
   "execution_count": 113,
   "metadata": {},
   "outputs": [
    {
     "data": {
      "image/png": "[encoded data removed]",
      "text/plain": [
       "<Figure size 720x360 with 1 Axes>"
      ]
     },
     "metadata": {
      "needs_background": "light"
     },
     "output_type": "display_data"
    }
   ],
   "source": [
    "interval = [i*25 for i in range(26,48)]\n",
    "\n",
    "ax,fig = plt.subplots(figsize=(10,5))\n",
    "for symbol in ready_df['Series'].unique():\n",
    "    plt.plot(ready_df.loc[ready_df['Series'] == symbol, 'Date'],\n",
    "                ready_df.loc[ready_df['Series'] == symbol, 'Close'],label=symbol)\n",
    "plt.title('SET50 Future Close Price')\n",
    "plt.grid()\n",
    "plt.yticks(interval)\n",
    "plt.vlines(['2020-03-09','2020-03-12','2020-03-23'],ymin=600,ymax=1200,label='Circuit Break',linestyles='dashed',colors='orange')\n",
    "plt.legend()\n",
    "plt.show()"
   ]
  },
  {
   "cell_type": "markdown",
   "metadata": {},
   "source": [
    "### Feature Engineering\n",
    "\n",
    "Options price affected the most by time to expiration and underlying volatility. Let's calculate the change in Options price and underlying \"ATR (Average True Range) to represent volatility.\n",
    "\n",
    "Further explanation of [ATR](https://www.investopedia.com/terms/a/atr.asp)"
   ]
  },
  {
   "cell_type": "code",
   "execution_count": null,
   "metadata": {},
   "outputs": [],
   "source": []
  },
  {
   "cell_type": "code",
   "execution_count": null,
   "metadata": {},
   "outputs": [],
   "source": []
  }
 ],
 "metadata": {
  "kernelspec": {
   "display_name": "Python 3.9.5 64-bit",
   "language": "python",
   "name": "python3"
  },
  "language_info": {
   "codemirror_mode": {
    "name": "ipython",
    "version": 3
   },
   "file_extension": ".py",
   "mimetype": "text/x-python",
   "name": "python",
   "nbconvert_exporter": "python",
   "pygments_lexer": "ipython3",
   "version": "3.9.5"
  },
  "orig_nbformat": 4,
  "vscode": {
   "interpreter": {
    "hash": "aee8b7b246df8f9039afb4144a1f6fd8d2ca17a180786b69acc140d282b71a49"
   }
  }
 },
 "nbformat": 4,
 "nbformat_minor": 2
}
