{
 "cells": [
  {
   "cell_type": "markdown",
   "id": "28c4a558-eaf1-47bf-97c4-bb172daf35f9",
   "metadata": {},
   "source": [
    "# Data Analytics project : Option Pricing \n",
    "\n",
    "This is a notebook for analyzing a data from SET50 index options from 2019 to 2021. The data set is collected manually by myself in 2019. Back there in 2019 I have no idea what Python or Data Analytics are. Still, to understand Options beheavior, I chose to collect the data by hand. Every single day at market close, I would open this Google Sheet and jotted all the numbers. The medhod was prone to human errors but back then I havn't heard about web-scraping. \n",
    "\n",
    "Here is what it looks like."
   ]
  },
  {
   "cell_type": "markdown",
   "id": "56958c70-06dd-4849-9ba8-33febaf6a7e3",
   "metadata": {
    "tags": []
   },
   "source": [
    "\n",
    "![options_sheet](options_sheet.png)"
   ]
  },
  {
   "cell_type": "markdown",
   "id": "743a0c62-9c49-4e32-9e20-2147002cfd60",
   "metadata": {},
   "source": [
    "Options is a derivative origanally aim to be used as an insurance for an underlying asset volatility during a certain period of time. And just like any insurances, the buyer need to pay the insurance premium to get insured, but, a million dollar question is, \"How much\" you should pay or sell for an option at a certain time.\n",
    "\n",
    "Since Options premium depends a lot on: \n",
    "- underlying's volatility and \n",
    "- time to expiration \n",
    "This notebook thus aim to map Options premium to both of the factors.\n",
    "\n",
    "For anyone who want to learn more about Options, here's a [link](https://www.investopedia.com/terms/s/stockoption.asp) to lay some foundation. \n",
    "\n",
    "----------------\n",
    "\n",
    "**Thailand Future Exchange(TFEX)** is a derivative market wich provides wide range of derivative such as \"Index Future\" and \"Index Options\". Each contracts expired at the end of each quarters and coded by the letter and numbers. Here is how to read the contract symbol:\n",
    "\n",
    " * S50H20 -> Means: this is an SET50 Index Future Expired at March 2020.\n",
    " \n",
    " * S50M20C900 -> Means: this is an SET50 Index Options at Strike Price 900 Expired at June 2020.\n",
    " \n",
    " The month code are as follows:\n",
    " \n",
    " * H -> March Expiration\n",
    " * M -> June Expiration\n",
    " * U -> September Expiration\n",
    " * Z -> December Expiration\n",
    " \n",
    " Thus **S50U22** is an **SET50 Index Future Contract expired at September 2022.**\n",
    " \n",
    " \n",
    " For more detailed explanation, please visit the [exchange](https://www.tfex.co.th/tfex/index.html?locale=en_US) tutorial.\n",
    "\n",
    "-----------------------\n",
    "\n",
    "Thanak Rattanopastkul, 2022"
   ]
  },
  {
   "cell_type": "markdown",
   "id": "3d98a10d-2610-478f-a213-cddad0ba7e67",
   "metadata": {},
   "source": [
    "### Import dependencies"
   ]
  },
  {
   "cell_type": "code",
   "execution_count": 3,
   "id": "29a8f416-9827-41b3-87f1-68c00769f27e",
   "metadata": {
    "tags": []
   },
   "outputs": [],
   "source": [
    "import pandas as pd\n",
    "import numpy as np\n",
    "import matplotlib.pyplot as plt"
   ]
  },
  {
   "cell_type": "markdown",
   "id": "54f775f3-1b40-4aa9-9c67-a478e8d05ba6",
   "metadata": {},
   "source": [
    "### Read the dataset"
   ]
  },
  {
   "cell_type": "code",
   "execution_count": 57,
   "id": "5e3ee4b1-00ed-4ea2-852b-8aed4f57f381",
   "metadata": {},
   "outputs": [],
   "source": [
    "import os\n",
    "\n",
    "os.getcwd()\n",
    "path = os.getcwd()+'/option_premium.csv'\n",
    "\n",
    "raw_data = pd.read_csv(path, \n",
    "                  parse_dates=['date','Expiration'],\n",
    "                  infer_datetime_format=True,\n",
    "                  dayfirst=True\n",
    ")"
   ]
  },
  {
   "cell_type": "code",
   "execution_count": 7,
   "id": "4b5b3cbb-fd9a-4490-8351-b30e428a8d29",
   "metadata": {},
   "outputs": [
    {
     "data": {
      "text/html": [
       "<div>\n",
       "<style scoped>\n",
       "    .dataframe tbody tr th:only-of-type {\n",
       "        vertical-align: middle;\n",
       "    }\n",
       "\n",
       "    .dataframe tbody tr th {\n",
       "        vertical-align: top;\n",
       "    }\n",
       "\n",
       "    .dataframe thead th {\n",
       "        text-align: right;\n",
       "    }\n",
       "</style>\n",
       "<table border=\"1\" class=\"dataframe\">\n",
       "  <thead>\n",
       "    <tr style=\"text-align: right;\">\n",
       "      <th></th>\n",
       "      <th>date</th>\n",
       "      <th>Series Name</th>\n",
       "      <th>Underlying Close</th>\n",
       "      <th>Expiration</th>\n",
       "      <th>Day to expire</th>\n",
       "      <th>Underlying Change</th>\n",
       "      <th>ATM premium</th>\n",
       "      <th>+/-1 OTM premium</th>\n",
       "    </tr>\n",
       "  </thead>\n",
       "  <tbody>\n",
       "    <tr>\n",
       "      <th>0</th>\n",
       "      <td>2019-06-18</td>\n",
       "      <td>U19</td>\n",
       "      <td>1111.8</td>\n",
       "      <td>2019-09-27</td>\n",
       "      <td>101d</td>\n",
       "      <td>NaN</td>\n",
       "      <td>38.8</td>\n",
       "      <td>20.9</td>\n",
       "    </tr>\n",
       "    <tr>\n",
       "      <th>1</th>\n",
       "      <td>2019-06-19</td>\n",
       "      <td>U19</td>\n",
       "      <td>1131.2</td>\n",
       "      <td>2019-09-27</td>\n",
       "      <td>100d</td>\n",
       "      <td>19.4</td>\n",
       "      <td>39.4</td>\n",
       "      <td>22.1</td>\n",
       "    </tr>\n",
       "    <tr>\n",
       "      <th>2</th>\n",
       "      <td>2019-06-20</td>\n",
       "      <td>U19</td>\n",
       "      <td>1144.4</td>\n",
       "      <td>2019-09-27</td>\n",
       "      <td>99d</td>\n",
       "      <td>13.2</td>\n",
       "      <td>44.7</td>\n",
       "      <td>24.8</td>\n",
       "    </tr>\n",
       "    <tr>\n",
       "      <th>3</th>\n",
       "      <td>2019-06-21</td>\n",
       "      <td>U19</td>\n",
       "      <td>1141.6</td>\n",
       "      <td>2019-09-27</td>\n",
       "      <td>98d</td>\n",
       "      <td>-2.8</td>\n",
       "      <td>47.0</td>\n",
       "      <td>26.7</td>\n",
       "    </tr>\n",
       "    <tr>\n",
       "      <th>4</th>\n",
       "      <td>2019-06-24</td>\n",
       "      <td>U19</td>\n",
       "      <td>1139.2</td>\n",
       "      <td>2019-09-27</td>\n",
       "      <td>95d</td>\n",
       "      <td>-2.4</td>\n",
       "      <td>48.6</td>\n",
       "      <td>28.0</td>\n",
       "    </tr>\n",
       "  </tbody>\n",
       "</table>\n",
       "</div>"
      ],
      "text/plain": [
       "        date Series Name  Underlying Close Expiration Day to expire  \\\n",
       "0 2019-06-18         U19            1111.8 2019-09-27          101d   \n",
       "1 2019-06-19         U19            1131.2 2019-09-27          100d   \n",
       "2 2019-06-20         U19            1144.4 2019-09-27           99d   \n",
       "3 2019-06-21         U19            1141.6 2019-09-27           98d   \n",
       "4 2019-06-24         U19            1139.2 2019-09-27           95d   \n",
       "\n",
       "   Underlying Change  ATM premium  +/-1 OTM premium  \n",
       "0                NaN         38.8              20.9  \n",
       "1               19.4         39.4              22.1  \n",
       "2               13.2         44.7              24.8  \n",
       "3               -2.8         47.0              26.7  \n",
       "4               -2.4         48.6              28.0  "
      ]
     },
     "execution_count": 7,
     "metadata": {},
     "output_type": "execute_result"
    }
   ],
   "source": [
    "preprocess = raw_data.copy()\n",
    "preprocess.head()"
   ]
  },
  {
   "cell_type": "code",
   "execution_count": 8,
   "id": "fdcec32b-c127-4448-b38f-0d6ddad0d46b",
   "metadata": {},
   "outputs": [
    {
     "name": "stdout",
     "output_type": "stream",
     "text": [
      "<class 'pandas.core.frame.DataFrame'>\n",
      "RangeIndex: 595 entries, 0 to 594\n",
      "Data columns (total 8 columns):\n",
      " #   Column             Non-Null Count  Dtype         \n",
      "---  ------             --------------  -----         \n",
      " 0   date               595 non-null    datetime64[ns]\n",
      " 1   Series Name        595 non-null    object        \n",
      " 2   Underlying Close   594 non-null    float64       \n",
      " 3   Expiration         595 non-null    datetime64[ns]\n",
      " 4   Day to expire      595 non-null    object        \n",
      " 5   Underlying Change  585 non-null    float64       \n",
      " 6   ATM premium        592 non-null    float64       \n",
      " 7   +/-1 OTM premium   595 non-null    float64       \n",
      "dtypes: datetime64[ns](2), float64(4), object(2)\n",
      "memory usage: 37.3+ KB\n"
     ]
    }
   ],
   "source": [
    "preprocess.info()"
   ]
  },
  {
   "cell_type": "markdown",
   "id": "475766c2-3ba2-446a-a5a1-a898efeaa406",
   "metadata": {},
   "source": [
    "### Data cleanning\n",
    "\n",
    "As mentioned above, This manually collected dataset is prone to human error. Let's make sure that the data is clean and validated.\n",
    "### Missing Data and Data Validation"
   ]
  },
  {
   "cell_type": "code",
   "execution_count": 9,
   "id": "cb9f898f-e07b-4d76-b259-aada393365ef",
   "metadata": {},
   "outputs": [
    {
     "data": {
      "text/plain": [
       "date                  0\n",
       "Series Name           0\n",
       "Underlying Close      1\n",
       "Expiration            0\n",
       "Day to expire         0\n",
       "Underlying Change    10\n",
       "ATM premium           3\n",
       "+/-1 OTM premium      0\n",
       "dtype: int64"
      ]
     },
     "execution_count": 9,
     "metadata": {},
     "output_type": "execute_result"
    }
   ],
   "source": [
    "preprocess.isna().sum()"
   ]
  },
  {
   "cell_type": "markdown",
   "id": "3703411f-7667-40d5-a38c-5f77b11623f0",
   "metadata": {},
   "source": [
    "Fist, let's fix the missing Underlying Change. This missing is mostly due to the fact that it is the first trading day for the contract. Thus, it has no change. Let's set these missing change to zero. "
   ]
  },
  {
   "cell_type": "code",
   "execution_count": 10,
   "id": "4d5cc588-b585-4b0c-a4ea-be11fe4abab2",
   "metadata": {},
   "outputs": [
    {
     "data": {
      "text/html": [
       "<div>\n",
       "<style scoped>\n",
       "    .dataframe tbody tr th:only-of-type {\n",
       "        vertical-align: middle;\n",
       "    }\n",
       "\n",
       "    .dataframe tbody tr th {\n",
       "        vertical-align: top;\n",
       "    }\n",
       "\n",
       "    .dataframe thead th {\n",
       "        text-align: right;\n",
       "    }\n",
       "</style>\n",
       "<table border=\"1\" class=\"dataframe\">\n",
       "  <thead>\n",
       "    <tr style=\"text-align: right;\">\n",
       "      <th></th>\n",
       "      <th>date</th>\n",
       "      <th>Series Name</th>\n",
       "      <th>Underlying Close</th>\n",
       "      <th>Expiration</th>\n",
       "      <th>Day to expire</th>\n",
       "      <th>Underlying Change</th>\n",
       "      <th>ATM premium</th>\n",
       "      <th>+/-1 OTM premium</th>\n",
       "    </tr>\n",
       "  </thead>\n",
       "  <tbody>\n",
       "    <tr>\n",
       "      <th>0</th>\n",
       "      <td>2019-06-18</td>\n",
       "      <td>U19</td>\n",
       "      <td>1111.8</td>\n",
       "      <td>2019-09-27</td>\n",
       "      <td>101d</td>\n",
       "      <td>NaN</td>\n",
       "      <td>38.8</td>\n",
       "      <td>20.9</td>\n",
       "    </tr>\n",
       "    <tr>\n",
       "      <th>71</th>\n",
       "      <td>2019-09-16</td>\n",
       "      <td>Z19</td>\n",
       "      <td>1102.0</td>\n",
       "      <td>2019-12-27</td>\n",
       "      <td>102d</td>\n",
       "      <td>NaN</td>\n",
       "      <td>59.6</td>\n",
       "      <td>38.5</td>\n",
       "    </tr>\n",
       "    <tr>\n",
       "      <th>136</th>\n",
       "      <td>2019-12-17</td>\n",
       "      <td>H20</td>\n",
       "      <td>1048.8</td>\n",
       "      <td>2020-03-30</td>\n",
       "      <td>104d</td>\n",
       "      <td>NaN</td>\n",
       "      <td>47.6</td>\n",
       "      <td>27.7</td>\n",
       "    </tr>\n",
       "    <tr>\n",
       "      <th>204</th>\n",
       "      <td>2020-03-23</td>\n",
       "      <td>M20</td>\n",
       "      <td>663.1</td>\n",
       "      <td>2020-06-29</td>\n",
       "      <td>98d</td>\n",
       "      <td>NaN</td>\n",
       "      <td>NaN</td>\n",
       "      <td>119.0</td>\n",
       "    </tr>\n",
       "    <tr>\n",
       "      <th>270</th>\n",
       "      <td>2020-06-22</td>\n",
       "      <td>U20</td>\n",
       "      <td>892.0</td>\n",
       "      <td>2020-09-29</td>\n",
       "      <td>99d</td>\n",
       "      <td>NaN</td>\n",
       "      <td>99.0</td>\n",
       "      <td>83.0</td>\n",
       "    </tr>\n",
       "    <tr>\n",
       "      <th>335</th>\n",
       "      <td>2020-09-29</td>\n",
       "      <td>U20</td>\n",
       "      <td>NaN</td>\n",
       "      <td>2020-09-29</td>\n",
       "      <td>0ms</td>\n",
       "      <td>NaN</td>\n",
       "      <td>5.2</td>\n",
       "      <td>0.3</td>\n",
       "    </tr>\n",
       "    <tr>\n",
       "      <th>336</th>\n",
       "      <td>2020-09-21</td>\n",
       "      <td>Z20</td>\n",
       "      <td>813.4</td>\n",
       "      <td>2020-12-29</td>\n",
       "      <td>99d</td>\n",
       "      <td>NaN</td>\n",
       "      <td>59.8</td>\n",
       "      <td>39.0</td>\n",
       "    </tr>\n",
       "    <tr>\n",
       "      <th>400</th>\n",
       "      <td>2020-12-22</td>\n",
       "      <td>H21</td>\n",
       "      <td>904.9</td>\n",
       "      <td>2021-03-30</td>\n",
       "      <td>98d</td>\n",
       "      <td>NaN</td>\n",
       "      <td>94.8</td>\n",
       "      <td>77.0</td>\n",
       "    </tr>\n",
       "    <tr>\n",
       "      <th>466</th>\n",
       "      <td>2021-03-25</td>\n",
       "      <td>M21</td>\n",
       "      <td>955.5</td>\n",
       "      <td>2021-06-29</td>\n",
       "      <td>96d</td>\n",
       "      <td>NaN</td>\n",
       "      <td>62.2</td>\n",
       "      <td>43.1</td>\n",
       "    </tr>\n",
       "    <tr>\n",
       "      <th>526</th>\n",
       "      <td>2021-06-18</td>\n",
       "      <td>U21</td>\n",
       "      <td>967.0</td>\n",
       "      <td>2021-09-29</td>\n",
       "      <td>103d</td>\n",
       "      <td>NaN</td>\n",
       "      <td>53.1</td>\n",
       "      <td>34.2</td>\n",
       "    </tr>\n",
       "  </tbody>\n",
       "</table>\n",
       "</div>"
      ],
      "text/plain": [
       "          date Series Name  Underlying Close Expiration Day to expire  \\\n",
       "0   2019-06-18         U19            1111.8 2019-09-27          101d   \n",
       "71  2019-09-16         Z19            1102.0 2019-12-27          102d   \n",
       "136 2019-12-17         H20            1048.8 2020-03-30          104d   \n",
       "204 2020-03-23         M20             663.1 2020-06-29           98d   \n",
       "270 2020-06-22         U20             892.0 2020-09-29           99d   \n",
       "335 2020-09-29         U20               NaN 2020-09-29           0ms   \n",
       "336 2020-09-21         Z20             813.4 2020-12-29           99d   \n",
       "400 2020-12-22         H21             904.9 2021-03-30           98d   \n",
       "466 2021-03-25         M21             955.5 2021-06-29           96d   \n",
       "526 2021-06-18         U21             967.0 2021-09-29          103d   \n",
       "\n",
       "     Underlying Change  ATM premium  +/-1 OTM premium  \n",
       "0                  NaN         38.8              20.9  \n",
       "71                 NaN         59.6              38.5  \n",
       "136                NaN         47.6              27.7  \n",
       "204                NaN          NaN             119.0  \n",
       "270                NaN         99.0              83.0  \n",
       "335                NaN          5.2               0.3  \n",
       "336                NaN         59.8              39.0  \n",
       "400                NaN         94.8              77.0  \n",
       "466                NaN         62.2              43.1  \n",
       "526                NaN         53.1              34.2  "
      ]
     },
     "execution_count": 10,
     "metadata": {},
     "output_type": "execute_result"
    }
   ],
   "source": [
    "preprocess.loc[preprocess['Underlying Change'].isna()]"
   ]
  },
  {
   "cell_type": "markdown",
   "id": "11ddb298-ac57-4378-bb84-589c660ee19e",
   "metadata": {},
   "source": [
    "There are couple of missing data for Underlying Change. All of them are either at the beginning of data collection or at the last trading day. Let's set them to zero."
   ]
  },
  {
   "cell_type": "code",
   "execution_count": 11,
   "id": "56e677ee-7051-498e-b051-a49985ced1d0",
   "metadata": {},
   "outputs": [],
   "source": [
    "preprocess.loc[preprocess['Underlying Change'].isna(),'Underlying Change'] = 0"
   ]
  },
  {
   "cell_type": "markdown",
   "id": "8f24cb29-d7de-4137-ad1a-4820b2e853c1",
   "metadata": {},
   "source": [
    "Next, the missing underlying close. This is easy to fix since the S50 Future price is public data.\n",
    "\n",
    "Let's see where is the missing one."
   ]
  },
  {
   "cell_type": "code",
   "execution_count": 12,
   "id": "0d7be7ef-cf0c-4fcc-8f74-fac0544af6fe",
   "metadata": {},
   "outputs": [
    {
     "data": {
      "text/html": [
       "<div>\n",
       "<style scoped>\n",
       "    .dataframe tbody tr th:only-of-type {\n",
       "        vertical-align: middle;\n",
       "    }\n",
       "\n",
       "    .dataframe tbody tr th {\n",
       "        vertical-align: top;\n",
       "    }\n",
       "\n",
       "    .dataframe thead th {\n",
       "        text-align: right;\n",
       "    }\n",
       "</style>\n",
       "<table border=\"1\" class=\"dataframe\">\n",
       "  <thead>\n",
       "    <tr style=\"text-align: right;\">\n",
       "      <th></th>\n",
       "      <th>date</th>\n",
       "      <th>Series Name</th>\n",
       "      <th>Underlying Close</th>\n",
       "      <th>Expiration</th>\n",
       "      <th>Day to expire</th>\n",
       "      <th>Underlying Change</th>\n",
       "      <th>ATM premium</th>\n",
       "      <th>+/-1 OTM premium</th>\n",
       "    </tr>\n",
       "  </thead>\n",
       "  <tbody>\n",
       "    <tr>\n",
       "      <th>335</th>\n",
       "      <td>2020-09-29</td>\n",
       "      <td>U20</td>\n",
       "      <td>NaN</td>\n",
       "      <td>2020-09-29</td>\n",
       "      <td>0ms</td>\n",
       "      <td>0.0</td>\n",
       "      <td>5.2</td>\n",
       "      <td>0.3</td>\n",
       "    </tr>\n",
       "  </tbody>\n",
       "</table>\n",
       "</div>"
      ],
      "text/plain": [
       "          date Series Name  Underlying Close Expiration Day to expire  \\\n",
       "335 2020-09-29         U20               NaN 2020-09-29           0ms   \n",
       "\n",
       "     Underlying Change  ATM premium  +/-1 OTM premium  \n",
       "335                0.0          5.2               0.3  "
      ]
     },
     "execution_count": 12,
     "metadata": {},
     "output_type": "execute_result"
    }
   ],
   "source": [
    "preprocess.loc[preprocess['Underlying Close'].isna()]"
   ]
  },
  {
   "cell_type": "markdown",
   "id": "dfb14085-3607-48e4-9ff8-915ab930097a",
   "metadata": {},
   "source": [
    "Need to find the closing of H50U20 at 2020-09-29. I use [tradingview](https://th.tradingview.com/chart/) to check for the missing price. Which is 793.9."
   ]
  },
  {
   "cell_type": "code",
   "execution_count": 13,
   "id": "8e3996e3-c5a8-410c-ae93-9a5f07b1a477",
   "metadata": {},
   "outputs": [
    {
     "data": {
      "text/html": [
       "<div>\n",
       "<style scoped>\n",
       "    .dataframe tbody tr th:only-of-type {\n",
       "        vertical-align: middle;\n",
       "    }\n",
       "\n",
       "    .dataframe tbody tr th {\n",
       "        vertical-align: top;\n",
       "    }\n",
       "\n",
       "    .dataframe thead th {\n",
       "        text-align: right;\n",
       "    }\n",
       "</style>\n",
       "<table border=\"1\" class=\"dataframe\">\n",
       "  <thead>\n",
       "    <tr style=\"text-align: right;\">\n",
       "      <th></th>\n",
       "      <th>date</th>\n",
       "      <th>Series Name</th>\n",
       "      <th>Underlying Close</th>\n",
       "      <th>Expiration</th>\n",
       "      <th>Day to expire</th>\n",
       "      <th>Underlying Change</th>\n",
       "      <th>ATM premium</th>\n",
       "      <th>+/-1 OTM premium</th>\n",
       "    </tr>\n",
       "  </thead>\n",
       "  <tbody>\n",
       "    <tr>\n",
       "      <th>333</th>\n",
       "      <td>2020-09-25</td>\n",
       "      <td>U20</td>\n",
       "      <td>784.1</td>\n",
       "      <td>2020-09-29</td>\n",
       "      <td>4d</td>\n",
       "      <td>-0.5</td>\n",
       "      <td>16.0</td>\n",
       "      <td>2.3</td>\n",
       "    </tr>\n",
       "    <tr>\n",
       "      <th>334</th>\n",
       "      <td>2020-09-28</td>\n",
       "      <td>U20</td>\n",
       "      <td>799.7</td>\n",
       "      <td>2020-09-29</td>\n",
       "      <td>1d</td>\n",
       "      <td>15.6</td>\n",
       "      <td>7.6</td>\n",
       "      <td>0.6</td>\n",
       "    </tr>\n",
       "    <tr>\n",
       "      <th>335</th>\n",
       "      <td>2020-09-29</td>\n",
       "      <td>U20</td>\n",
       "      <td>NaN</td>\n",
       "      <td>2020-09-29</td>\n",
       "      <td>0ms</td>\n",
       "      <td>0.0</td>\n",
       "      <td>5.2</td>\n",
       "      <td>0.3</td>\n",
       "    </tr>\n",
       "    <tr>\n",
       "      <th>336</th>\n",
       "      <td>2020-09-21</td>\n",
       "      <td>Z20</td>\n",
       "      <td>813.4</td>\n",
       "      <td>2020-12-29</td>\n",
       "      <td>99d</td>\n",
       "      <td>0.0</td>\n",
       "      <td>59.8</td>\n",
       "      <td>39.0</td>\n",
       "    </tr>\n",
       "    <tr>\n",
       "      <th>337</th>\n",
       "      <td>2020-09-22</td>\n",
       "      <td>Z20</td>\n",
       "      <td>808.5</td>\n",
       "      <td>2020-12-29</td>\n",
       "      <td>98d</td>\n",
       "      <td>-4.9</td>\n",
       "      <td>50.0</td>\n",
       "      <td>32.4</td>\n",
       "    </tr>\n",
       "  </tbody>\n",
       "</table>\n",
       "</div>"
      ],
      "text/plain": [
       "          date Series Name  Underlying Close Expiration Day to expire  \\\n",
       "333 2020-09-25         U20             784.1 2020-09-29            4d   \n",
       "334 2020-09-28         U20             799.7 2020-09-29            1d   \n",
       "335 2020-09-29         U20               NaN 2020-09-29           0ms   \n",
       "336 2020-09-21         Z20             813.4 2020-12-29           99d   \n",
       "337 2020-09-22         Z20             808.5 2020-12-29           98d   \n",
       "\n",
       "     Underlying Change  ATM premium  +/-1 OTM premium  \n",
       "333               -0.5         16.0               2.3  \n",
       "334               15.6          7.6               0.6  \n",
       "335                0.0          5.2               0.3  \n",
       "336                0.0         59.8              39.0  \n",
       "337               -4.9         50.0              32.4  "
      ]
     },
     "execution_count": 13,
     "metadata": {},
     "output_type": "execute_result"
    }
   ],
   "source": [
    "# double check of 793.9 is making sense\n",
    "preprocess.loc[333:337]\n",
    "# Those \"Close\" need to be close to 793.9. Checked."
   ]
  },
  {
   "cell_type": "code",
   "execution_count": 14,
   "id": "3c91b21f-fb1b-4619-b99f-fd1850029aa9",
   "metadata": {},
   "outputs": [],
   "source": [
    "preprocess.loc[335,'Underlying Close'] = 793.9"
   ]
  },
  {
   "cell_type": "code",
   "execution_count": 15,
   "id": "e4b9cdc4-7518-44b1-9f03-2de474f4a4c6",
   "metadata": {},
   "outputs": [
    {
     "data": {
      "text/html": [
       "<div>\n",
       "<style scoped>\n",
       "    .dataframe tbody tr th:only-of-type {\n",
       "        vertical-align: middle;\n",
       "    }\n",
       "\n",
       "    .dataframe tbody tr th {\n",
       "        vertical-align: top;\n",
       "    }\n",
       "\n",
       "    .dataframe thead th {\n",
       "        text-align: right;\n",
       "    }\n",
       "</style>\n",
       "<table border=\"1\" class=\"dataframe\">\n",
       "  <thead>\n",
       "    <tr style=\"text-align: right;\">\n",
       "      <th></th>\n",
       "      <th>date</th>\n",
       "      <th>Series Name</th>\n",
       "      <th>Underlying Close</th>\n",
       "      <th>Expiration</th>\n",
       "      <th>Day to expire</th>\n",
       "      <th>Underlying Change</th>\n",
       "      <th>ATM premium</th>\n",
       "      <th>+/-1 OTM premium</th>\n",
       "    </tr>\n",
       "  </thead>\n",
       "  <tbody>\n",
       "    <tr>\n",
       "      <th>334</th>\n",
       "      <td>2020-09-28</td>\n",
       "      <td>U20</td>\n",
       "      <td>799.7</td>\n",
       "      <td>2020-09-29</td>\n",
       "      <td>1d</td>\n",
       "      <td>15.6</td>\n",
       "      <td>7.6</td>\n",
       "      <td>0.6</td>\n",
       "    </tr>\n",
       "    <tr>\n",
       "      <th>335</th>\n",
       "      <td>2020-09-29</td>\n",
       "      <td>U20</td>\n",
       "      <td>793.9</td>\n",
       "      <td>2020-09-29</td>\n",
       "      <td>0ms</td>\n",
       "      <td>0.0</td>\n",
       "      <td>5.2</td>\n",
       "      <td>0.3</td>\n",
       "    </tr>\n",
       "    <tr>\n",
       "      <th>336</th>\n",
       "      <td>2020-09-21</td>\n",
       "      <td>Z20</td>\n",
       "      <td>813.4</td>\n",
       "      <td>2020-12-29</td>\n",
       "      <td>99d</td>\n",
       "      <td>0.0</td>\n",
       "      <td>59.8</td>\n",
       "      <td>39.0</td>\n",
       "    </tr>\n",
       "  </tbody>\n",
       "</table>\n",
       "</div>"
      ],
      "text/plain": [
       "          date Series Name  Underlying Close Expiration Day to expire  \\\n",
       "334 2020-09-28         U20             799.7 2020-09-29            1d   \n",
       "335 2020-09-29         U20             793.9 2020-09-29           0ms   \n",
       "336 2020-09-21         Z20             813.4 2020-12-29           99d   \n",
       "\n",
       "     Underlying Change  ATM premium  +/-1 OTM premium  \n",
       "334               15.6          7.6               0.6  \n",
       "335                0.0          5.2               0.3  \n",
       "336                0.0         59.8              39.0  "
      ]
     },
     "execution_count": 15,
     "metadata": {},
     "output_type": "execute_result"
    }
   ],
   "source": [
    "preprocess.loc[334:336]"
   ]
  },
  {
   "cell_type": "markdown",
   "id": "106da63f-d77a-4b62-b7eb-3eb0d5ba0798",
   "metadata": {},
   "source": [
    "also need to fix \"Underlying Change\" for entry 335 and 336 too."
   ]
  },
  {
   "cell_type": "code",
   "execution_count": 16,
   "id": "c6add78a-8a3f-4456-ac13-faf76e2437e6",
   "metadata": {},
   "outputs": [],
   "source": [
    "preprocess.loc[335, 'Underlying Change'] = preprocess.loc[335, 'Underlying Close']-preprocess.loc[334, 'Underlying Close']\n",
    "preprocess.loc[336, 'Underlying Change'] = preprocess.loc[336, 'Underlying Close']-preprocess.loc[335, 'Underlying Close']"
   ]
  },
  {
   "cell_type": "code",
   "execution_count": 17,
   "id": "c3adee96-99ee-437c-b272-c0287f932e56",
   "metadata": {},
   "outputs": [
    {
     "data": {
      "text/html": [
       "<div>\n",
       "<style scoped>\n",
       "    .dataframe tbody tr th:only-of-type {\n",
       "        vertical-align: middle;\n",
       "    }\n",
       "\n",
       "    .dataframe tbody tr th {\n",
       "        vertical-align: top;\n",
       "    }\n",
       "\n",
       "    .dataframe thead th {\n",
       "        text-align: right;\n",
       "    }\n",
       "</style>\n",
       "<table border=\"1\" class=\"dataframe\">\n",
       "  <thead>\n",
       "    <tr style=\"text-align: right;\">\n",
       "      <th></th>\n",
       "      <th>date</th>\n",
       "      <th>Series Name</th>\n",
       "      <th>Underlying Close</th>\n",
       "      <th>Expiration</th>\n",
       "      <th>Day to expire</th>\n",
       "      <th>Underlying Change</th>\n",
       "      <th>ATM premium</th>\n",
       "      <th>+/-1 OTM premium</th>\n",
       "    </tr>\n",
       "  </thead>\n",
       "  <tbody>\n",
       "    <tr>\n",
       "      <th>335</th>\n",
       "      <td>2020-09-29</td>\n",
       "      <td>U20</td>\n",
       "      <td>793.9</td>\n",
       "      <td>2020-09-29</td>\n",
       "      <td>0ms</td>\n",
       "      <td>-5.8</td>\n",
       "      <td>5.2</td>\n",
       "      <td>0.3</td>\n",
       "    </tr>\n",
       "    <tr>\n",
       "      <th>336</th>\n",
       "      <td>2020-09-21</td>\n",
       "      <td>Z20</td>\n",
       "      <td>813.4</td>\n",
       "      <td>2020-12-29</td>\n",
       "      <td>99d</td>\n",
       "      <td>19.5</td>\n",
       "      <td>59.8</td>\n",
       "      <td>39.0</td>\n",
       "    </tr>\n",
       "    <tr>\n",
       "      <th>337</th>\n",
       "      <td>2020-09-22</td>\n",
       "      <td>Z20</td>\n",
       "      <td>808.5</td>\n",
       "      <td>2020-12-29</td>\n",
       "      <td>98d</td>\n",
       "      <td>-4.9</td>\n",
       "      <td>50.0</td>\n",
       "      <td>32.4</td>\n",
       "    </tr>\n",
       "  </tbody>\n",
       "</table>\n",
       "</div>"
      ],
      "text/plain": [
       "          date Series Name  Underlying Close Expiration Day to expire  \\\n",
       "335 2020-09-29         U20             793.9 2020-09-29           0ms   \n",
       "336 2020-09-21         Z20             813.4 2020-12-29           99d   \n",
       "337 2020-09-22         Z20             808.5 2020-12-29           98d   \n",
       "\n",
       "     Underlying Change  ATM premium  +/-1 OTM premium  \n",
       "335               -5.8          5.2               0.3  \n",
       "336               19.5         59.8              39.0  \n",
       "337               -4.9         50.0              32.4  "
      ]
     },
     "execution_count": 17,
     "metadata": {},
     "output_type": "execute_result"
    }
   ],
   "source": [
    "preprocess.loc[335:337]"
   ]
  },
  {
   "cell_type": "markdown",
   "id": "00da2b99-3ed2-4c35-8d4c-6e11dc6323d9",
   "metadata": {},
   "source": [
    "Entey 335,336 is done.\n",
    "\n",
    "Finally, the missing \"at the money\" premium which are missing."
   ]
  },
  {
   "cell_type": "code",
   "execution_count": 18,
   "id": "e618a1f4-c209-4b55-958d-a9c7a12b013e",
   "metadata": {},
   "outputs": [
    {
     "data": {
      "text/html": [
       "<div>\n",
       "<style scoped>\n",
       "    .dataframe tbody tr th:only-of-type {\n",
       "        vertical-align: middle;\n",
       "    }\n",
       "\n",
       "    .dataframe tbody tr th {\n",
       "        vertical-align: top;\n",
       "    }\n",
       "\n",
       "    .dataframe thead th {\n",
       "        text-align: right;\n",
       "    }\n",
       "</style>\n",
       "<table border=\"1\" class=\"dataframe\">\n",
       "  <thead>\n",
       "    <tr style=\"text-align: right;\">\n",
       "      <th></th>\n",
       "      <th>date</th>\n",
       "      <th>Series Name</th>\n",
       "      <th>Underlying Close</th>\n",
       "      <th>Expiration</th>\n",
       "      <th>Day to expire</th>\n",
       "      <th>Underlying Change</th>\n",
       "      <th>ATM premium</th>\n",
       "      <th>+/-1 OTM premium</th>\n",
       "    </tr>\n",
       "  </thead>\n",
       "  <tbody>\n",
       "    <tr>\n",
       "      <th>188</th>\n",
       "      <td>2020-03-09</td>\n",
       "      <td>H20</td>\n",
       "      <td>822.3</td>\n",
       "      <td>2020-03-30</td>\n",
       "      <td>21d</td>\n",
       "      <td>-92.3</td>\n",
       "      <td>NaN</td>\n",
       "      <td>0.0</td>\n",
       "    </tr>\n",
       "    <tr>\n",
       "      <th>191</th>\n",
       "      <td>2020-03-12</td>\n",
       "      <td>H20</td>\n",
       "      <td>724.1</td>\n",
       "      <td>2020-03-30</td>\n",
       "      <td>18d</td>\n",
       "      <td>-97.6</td>\n",
       "      <td>NaN</td>\n",
       "      <td>0.0</td>\n",
       "    </tr>\n",
       "    <tr>\n",
       "      <th>204</th>\n",
       "      <td>2020-03-23</td>\n",
       "      <td>M20</td>\n",
       "      <td>663.1</td>\n",
       "      <td>2020-06-29</td>\n",
       "      <td>98d</td>\n",
       "      <td>0.0</td>\n",
       "      <td>NaN</td>\n",
       "      <td>119.0</td>\n",
       "    </tr>\n",
       "  </tbody>\n",
       "</table>\n",
       "</div>"
      ],
      "text/plain": [
       "          date Series Name  Underlying Close Expiration Day to expire  \\\n",
       "188 2020-03-09         H20             822.3 2020-03-30           21d   \n",
       "191 2020-03-12         H20             724.1 2020-03-30           18d   \n",
       "204 2020-03-23         M20             663.1 2020-06-29           98d   \n",
       "\n",
       "     Underlying Change  ATM premium  +/-1 OTM premium  \n",
       "188              -92.3          NaN               0.0  \n",
       "191              -97.6          NaN               0.0  \n",
       "204                0.0          NaN             119.0  "
      ]
     },
     "execution_count": 18,
     "metadata": {},
     "output_type": "execute_result"
    }
   ],
   "source": [
    "preprocess.loc[preprocess['ATM premium'].isna()]"
   ]
  },
  {
   "cell_type": "markdown",
   "id": "64ec4f4b-eae1-4486-9925-3ddb37a3ee5b",
   "metadata": {},
   "source": [
    "For the entries at \n",
    "\n",
    "* 2020-03-09 \n",
    "* 2020-03-12\n",
    "* 2020-03-23 \n",
    "\n",
    "those are very special case when COVID-19 crash the global market. The market actually crash and [Circuit Breaker](https://www.investopedia.com/terms/c/circuitbreaker.asp) was implimented on those three days. The Options market maker stop providing liquidity. Thus, those three very rare occasions should be left as NaN."
   ]
  },
  {
   "cell_type": "markdown",
   "id": "2aaeac01-3b6f-4cdf-be1d-bf7f7a368090",
   "metadata": {},
   "source": [
    "Check if all the missing data has been taking cared off."
   ]
  },
  {
   "cell_type": "code",
   "execution_count": 19,
   "id": "5bf8b957-01b5-4632-baa3-9d349fd25253",
   "metadata": {},
   "outputs": [
    {
     "data": {
      "text/plain": [
       "date                 0\n",
       "Series Name          0\n",
       "Underlying Close     0\n",
       "Expiration           0\n",
       "Day to expire        0\n",
       "Underlying Change    0\n",
       "ATM premium          3\n",
       "+/-1 OTM premium     0\n",
       "dtype: int64"
      ]
     },
     "execution_count": 19,
     "metadata": {},
     "output_type": "execute_result"
    }
   ],
   "source": [
    "preprocess.isna().sum()"
   ]
  },
  {
   "cell_type": "markdown",
   "id": "33b8264c-b291-4aae-b298-cbf0c9aa4bbf",
   "metadata": {},
   "source": [
    "All the missing data but the last 3 cercuit breaks are dealth with.\n",
    "\n",
    "Now let's validate the data. Let's check that \"Day to expire\" and \"Underlying Change\" was collected correctly."
   ]
  },
  {
   "cell_type": "code",
   "execution_count": 20,
   "id": "12009925-49aa-46d7-a6da-4532a1af9b63",
   "metadata": {},
   "outputs": [],
   "source": [
    "preprocess['Validate_DTE'] = preprocess['Expiration']-preprocess['date']"
   ]
  },
  {
   "cell_type": "code",
   "execution_count": 21,
   "id": "cd43a26d-af48-4587-9d7f-b5be2494867f",
   "metadata": {},
   "outputs": [
    {
     "data": {
      "text/html": [
       "<div>\n",
       "<style scoped>\n",
       "    .dataframe tbody tr th:only-of-type {\n",
       "        vertical-align: middle;\n",
       "    }\n",
       "\n",
       "    .dataframe tbody tr th {\n",
       "        vertical-align: top;\n",
       "    }\n",
       "\n",
       "    .dataframe thead th {\n",
       "        text-align: right;\n",
       "    }\n",
       "</style>\n",
       "<table border=\"1\" class=\"dataframe\">\n",
       "  <thead>\n",
       "    <tr style=\"text-align: right;\">\n",
       "      <th></th>\n",
       "      <th>date</th>\n",
       "      <th>Series Name</th>\n",
       "      <th>Underlying Close</th>\n",
       "      <th>Expiration</th>\n",
       "      <th>Day to expire</th>\n",
       "      <th>Underlying Change</th>\n",
       "      <th>ATM premium</th>\n",
       "      <th>+/-1 OTM premium</th>\n",
       "      <th>Validate_DTE</th>\n",
       "    </tr>\n",
       "  </thead>\n",
       "  <tbody>\n",
       "  </tbody>\n",
       "</table>\n",
       "</div>"
      ],
      "text/plain": [
       "Empty DataFrame\n",
       "Columns: [date, Series Name, Underlying Close, Expiration, Day to expire, Underlying Change, ATM premium, +/-1 OTM premium, Validate_DTE]\n",
       "Index: []"
      ]
     },
     "execution_count": 21,
     "metadata": {},
     "output_type": "execute_result"
    }
   ],
   "source": [
    "# see if 'Validate_DTE'and 'Day to expire' are different in any line?\n",
    "preprocess.loc[preprocess['Validate_DTE']!=preprocess['Day to expire']]"
   ]
  },
  {
   "cell_type": "markdown",
   "id": "dfa332b2-dfce-4675-99cb-0c839ba9f420",
   "metadata": {},
   "source": [
    "\"Day to expire\" column are collected correctly."
   ]
  },
  {
   "cell_type": "code",
   "execution_count": 22,
   "id": "c49a882d-9037-48a3-aaa0-5e347e6e5a3a",
   "metadata": {
    "tags": []
   },
   "outputs": [],
   "source": [
    "# drop the old column. Using the validate column\n",
    "preprocess.drop('Day to expire',axis=1, inplace=True)"
   ]
  },
  {
   "cell_type": "markdown",
   "id": "6cfdaba5-0b06-4699-b52b-62a5dca0628b",
   "metadata": {},
   "source": [
    "Check the calculation of Underlying Change."
   ]
  },
  {
   "cell_type": "code",
   "execution_count": 23,
   "id": "7fe3daa4-caeb-42df-bc25-8e76677a9778",
   "metadata": {
    "tags": []
   },
   "outputs": [],
   "source": [
    "for i in preprocess.index[1:]:\n",
    "    if preprocess.loc[i, 'Series Name'] == preprocess.loc[i-1, 'Series Name']:\n",
    "        preprocess.loc[i, 'validate_change'] = preprocess.loc[i, 'Underlying Close']-preprocess.loc[i-1, 'Underlying Close']\n",
    "    else:\n",
    "        preprocess.loc[i, 'validate_change'] = 0"
   ]
  },
  {
   "cell_type": "markdown",
   "id": "6a4628c1-2f17-4be5-8bce-18a7f6cdde38",
   "metadata": {},
   "source": [
    "Let's see where the data discrepancy still exist between 'Underlying Change' and 'validate_change'"
   ]
  },
  {
   "cell_type": "code",
   "execution_count": 24,
   "id": "ceba0c2e-9a66-4d65-b15e-eed7a86702ac",
   "metadata": {},
   "outputs": [
    {
     "data": {
      "text/html": [
       "<div>\n",
       "<style scoped>\n",
       "    .dataframe tbody tr th:only-of-type {\n",
       "        vertical-align: middle;\n",
       "    }\n",
       "\n",
       "    .dataframe tbody tr th {\n",
       "        vertical-align: top;\n",
       "    }\n",
       "\n",
       "    .dataframe thead th {\n",
       "        text-align: right;\n",
       "    }\n",
       "</style>\n",
       "<table border=\"1\" class=\"dataframe\">\n",
       "  <thead>\n",
       "    <tr style=\"text-align: right;\">\n",
       "      <th></th>\n",
       "      <th>date</th>\n",
       "      <th>Series Name</th>\n",
       "      <th>Underlying Close</th>\n",
       "      <th>Expiration</th>\n",
       "      <th>Underlying Change</th>\n",
       "      <th>ATM premium</th>\n",
       "      <th>+/-1 OTM premium</th>\n",
       "      <th>Validate_DTE</th>\n",
       "      <th>validate_change</th>\n",
       "    </tr>\n",
       "  </thead>\n",
       "  <tbody>\n",
       "    <tr>\n",
       "      <th>0</th>\n",
       "      <td>2019-06-18</td>\n",
       "      <td>U19</td>\n",
       "      <td>1111.8</td>\n",
       "      <td>2019-09-27</td>\n",
       "      <td>0.0</td>\n",
       "      <td>38.8</td>\n",
       "      <td>20.9</td>\n",
       "      <td>101 days</td>\n",
       "      <td>NaN</td>\n",
       "    </tr>\n",
       "    <tr>\n",
       "      <th>336</th>\n",
       "      <td>2020-09-21</td>\n",
       "      <td>Z20</td>\n",
       "      <td>813.4</td>\n",
       "      <td>2020-12-29</td>\n",
       "      <td>19.5</td>\n",
       "      <td>59.8</td>\n",
       "      <td>39.0</td>\n",
       "      <td>99 days</td>\n",
       "      <td>0.0</td>\n",
       "    </tr>\n",
       "  </tbody>\n",
       "</table>\n",
       "</div>"
      ],
      "text/plain": [
       "          date Series Name  Underlying Close Expiration  Underlying Change  \\\n",
       "0   2019-06-18         U19            1111.8 2019-09-27                0.0   \n",
       "336 2020-09-21         Z20             813.4 2020-12-29               19.5   \n",
       "\n",
       "     ATM premium  +/-1 OTM premium Validate_DTE  validate_change  \n",
       "0           38.8              20.9     101 days              NaN  \n",
       "336         59.8              39.0      99 days              0.0  "
      ]
     },
     "execution_count": 24,
     "metadata": {},
     "output_type": "execute_result"
    }
   ],
   "source": [
    "preprocess[~np.isclose(preprocess['Underlying Change'],preprocess['validate_change'])]"
   ]
  },
  {
   "cell_type": "markdown",
   "id": "69141b0f-7f92-4cff-9dd3-38c6120cebdb",
   "metadata": {},
   "source": [
    "Only for the first entry, it doesn't have anything prior to compare with. Let's set zero it."
   ]
  },
  {
   "cell_type": "code",
   "execution_count": 25,
   "id": "101b20d1-8e59-4886-bdca-9ef9e7ed1006",
   "metadata": {},
   "outputs": [],
   "source": [
    "preprocess.loc[0, 'validate_change'] = 0"
   ]
  },
  {
   "cell_type": "code",
   "execution_count": 26,
   "id": "591f98c8-7fcf-4b16-ac3d-6406a934d7b7",
   "metadata": {},
   "outputs": [],
   "source": [
    "# drop the old change column\n",
    "preprocess.drop('Underlying Change', axis=1, inplace=True)"
   ]
  },
  {
   "cell_type": "markdown",
   "id": "a007e7ac-35ac-4a90-a165-907054f445e8",
   "metadata": {},
   "source": [
    "### Feature Engineering\n",
    "\n",
    "One thing that is alway in use to gauge volatility are price range and daily return (percent change over intervals). \n",
    "\n",
    "On the other side, the premium lag and premium change is worth calculating too.\n",
    "\n",
    "Let's calculate these column. "
   ]
  },
  {
   "cell_type": "code",
   "execution_count": 27,
   "id": "91d407a3-b3c7-4c01-87a6-e9475e5a55da",
   "metadata": {},
   "outputs": [],
   "source": [
    "preprocess['daily return'] = (preprocess['Underlying Close']-preprocess['Underlying Close'].shift(1))/preprocess['Underlying Close'].shift(1)\n",
    "preprocess['range'] = preprocess['Underlying Close'] - preprocess['Underlying Close'].shift(1)\n",
    "preprocess['atm_change'] = preprocess['ATM premium'] - preprocess['ATM premium'].shift(1)\n",
    "preprocess['otm_change'] = preprocess['+/-1 OTM premium'] - preprocess['+/-1 OTM premium'].shift(1)\n",
    "preprocess['atm_lag'] = preprocess['ATM premium'].shift(1)\n",
    "preprocess['+/-1 Otm_lag'] = preprocess['+/-1 OTM premium'].shift(1)"
   ]
  },
  {
   "cell_type": "code",
   "execution_count": 28,
   "id": "eaa2a49f-dae6-419d-9de0-c1327de09139",
   "metadata": {},
   "outputs": [
    {
     "data": {
      "text/html": [
       "<div>\n",
       "<style scoped>\n",
       "    .dataframe tbody tr th:only-of-type {\n",
       "        vertical-align: middle;\n",
       "    }\n",
       "\n",
       "    .dataframe tbody tr th {\n",
       "        vertical-align: top;\n",
       "    }\n",
       "\n",
       "    .dataframe thead th {\n",
       "        text-align: right;\n",
       "    }\n",
       "</style>\n",
       "<table border=\"1\" class=\"dataframe\">\n",
       "  <thead>\n",
       "    <tr style=\"text-align: right;\">\n",
       "      <th></th>\n",
       "      <th>date</th>\n",
       "      <th>Series Name</th>\n",
       "      <th>Underlying Close</th>\n",
       "      <th>Expiration</th>\n",
       "      <th>ATM premium</th>\n",
       "      <th>+/-1 OTM premium</th>\n",
       "      <th>Validate_DTE</th>\n",
       "      <th>validate_change</th>\n",
       "      <th>daily return</th>\n",
       "      <th>range</th>\n",
       "      <th>atm_change</th>\n",
       "      <th>otm_change</th>\n",
       "      <th>atm_lag</th>\n",
       "      <th>+/-1 Otm_lag</th>\n",
       "    </tr>\n",
       "  </thead>\n",
       "  <tbody>\n",
       "    <tr>\n",
       "      <th>0</th>\n",
       "      <td>2019-06-18</td>\n",
       "      <td>U19</td>\n",
       "      <td>1111.8</td>\n",
       "      <td>2019-09-27</td>\n",
       "      <td>38.8</td>\n",
       "      <td>20.9</td>\n",
       "      <td>101 days</td>\n",
       "      <td>0.0</td>\n",
       "      <td>NaN</td>\n",
       "      <td>NaN</td>\n",
       "      <td>NaN</td>\n",
       "      <td>NaN</td>\n",
       "      <td>NaN</td>\n",
       "      <td>NaN</td>\n",
       "    </tr>\n",
       "    <tr>\n",
       "      <th>1</th>\n",
       "      <td>2019-06-19</td>\n",
       "      <td>U19</td>\n",
       "      <td>1131.2</td>\n",
       "      <td>2019-09-27</td>\n",
       "      <td>39.4</td>\n",
       "      <td>22.1</td>\n",
       "      <td>100 days</td>\n",
       "      <td>19.4</td>\n",
       "      <td>0.017449</td>\n",
       "      <td>19.4</td>\n",
       "      <td>0.6</td>\n",
       "      <td>1.2</td>\n",
       "      <td>38.8</td>\n",
       "      <td>20.9</td>\n",
       "    </tr>\n",
       "    <tr>\n",
       "      <th>2</th>\n",
       "      <td>2019-06-20</td>\n",
       "      <td>U19</td>\n",
       "      <td>1144.4</td>\n",
       "      <td>2019-09-27</td>\n",
       "      <td>44.7</td>\n",
       "      <td>24.8</td>\n",
       "      <td>99 days</td>\n",
       "      <td>13.2</td>\n",
       "      <td>0.011669</td>\n",
       "      <td>13.2</td>\n",
       "      <td>5.3</td>\n",
       "      <td>2.7</td>\n",
       "      <td>39.4</td>\n",
       "      <td>22.1</td>\n",
       "    </tr>\n",
       "  </tbody>\n",
       "</table>\n",
       "</div>"
      ],
      "text/plain": [
       "        date Series Name  Underlying Close Expiration  ATM premium  \\\n",
       "0 2019-06-18         U19            1111.8 2019-09-27         38.8   \n",
       "1 2019-06-19         U19            1131.2 2019-09-27         39.4   \n",
       "2 2019-06-20         U19            1144.4 2019-09-27         44.7   \n",
       "\n",
       "   +/-1 OTM premium Validate_DTE  validate_change  daily return  range  \\\n",
       "0              20.9     101 days              0.0           NaN    NaN   \n",
       "1              22.1     100 days             19.4      0.017449   19.4   \n",
       "2              24.8      99 days             13.2      0.011669   13.2   \n",
       "\n",
       "   atm_change  otm_change  atm_lag  +/-1 Otm_lag  \n",
       "0         NaN         NaN      NaN           NaN  \n",
       "1         0.6         1.2     38.8          20.9  \n",
       "2         5.3         2.7     39.4          22.1  "
      ]
     },
     "execution_count": 28,
     "metadata": {},
     "output_type": "execute_result"
    }
   ],
   "source": [
    "preprocess.head(3)"
   ]
  },
  {
   "cell_type": "markdown",
   "id": "a1ac75a1-bc7c-4ee7-84de-343f6a46c3af",
   "metadata": {},
   "source": [
    "Now, the percent change from yesterday is ready."
   ]
  },
  {
   "cell_type": "markdown",
   "id": "77114c1f-1d97-48fb-a689-bf12765ffbd5",
   "metadata": {},
   "source": [
    "### Time for EDA"
   ]
  },
  {
   "cell_type": "code",
   "execution_count": 29,
   "id": "59442583-1cdc-4650-8259-24b1959b8317",
   "metadata": {},
   "outputs": [
    {
     "data": {
      "text/html": [
       "<div>\n",
       "<style scoped>\n",
       "    .dataframe tbody tr th:only-of-type {\n",
       "        vertical-align: middle;\n",
       "    }\n",
       "\n",
       "    .dataframe tbody tr th {\n",
       "        vertical-align: top;\n",
       "    }\n",
       "\n",
       "    .dataframe thead th {\n",
       "        text-align: right;\n",
       "    }\n",
       "</style>\n",
       "<table border=\"1\" class=\"dataframe\">\n",
       "  <thead>\n",
       "    <tr style=\"text-align: right;\">\n",
       "      <th></th>\n",
       "      <th>date</th>\n",
       "      <th>Series Name</th>\n",
       "      <th>Underlying Close</th>\n",
       "      <th>Expiration</th>\n",
       "      <th>ATM premium</th>\n",
       "      <th>+/-1 OTM premium</th>\n",
       "      <th>Validate_DTE</th>\n",
       "      <th>validate_change</th>\n",
       "      <th>daily return</th>\n",
       "      <th>range</th>\n",
       "      <th>atm_change</th>\n",
       "      <th>otm_change</th>\n",
       "      <th>atm_lag</th>\n",
       "      <th>+/-1 Otm_lag</th>\n",
       "    </tr>\n",
       "  </thead>\n",
       "  <tbody>\n",
       "    <tr>\n",
       "      <th>592</th>\n",
       "      <td>2021-09-27</td>\n",
       "      <td>U21</td>\n",
       "      <td>970.2</td>\n",
       "      <td>2021-09-29</td>\n",
       "      <td>10.1</td>\n",
       "      <td>1.0</td>\n",
       "      <td>2 days</td>\n",
       "      <td>3.4</td>\n",
       "      <td>0.003517</td>\n",
       "      <td>3.4</td>\n",
       "      <td>-6.2</td>\n",
       "      <td>-1.8</td>\n",
       "      <td>16.3</td>\n",
       "      <td>2.8</td>\n",
       "    </tr>\n",
       "    <tr>\n",
       "      <th>593</th>\n",
       "      <td>2021-09-28</td>\n",
       "      <td>U21</td>\n",
       "      <td>968.6</td>\n",
       "      <td>2021-09-29</td>\n",
       "      <td>8.5</td>\n",
       "      <td>0.6</td>\n",
       "      <td>1 days</td>\n",
       "      <td>-1.6</td>\n",
       "      <td>-0.001649</td>\n",
       "      <td>-1.6</td>\n",
       "      <td>-1.6</td>\n",
       "      <td>-0.4</td>\n",
       "      <td>10.1</td>\n",
       "      <td>1.0</td>\n",
       "    </tr>\n",
       "    <tr>\n",
       "      <th>594</th>\n",
       "      <td>2021-09-29</td>\n",
       "      <td>U21</td>\n",
       "      <td>970.2</td>\n",
       "      <td>2021-09-29</td>\n",
       "      <td>4.4</td>\n",
       "      <td>0.2</td>\n",
       "      <td>0 days</td>\n",
       "      <td>1.6</td>\n",
       "      <td>0.001652</td>\n",
       "      <td>1.6</td>\n",
       "      <td>-4.1</td>\n",
       "      <td>-0.4</td>\n",
       "      <td>8.5</td>\n",
       "      <td>0.6</td>\n",
       "    </tr>\n",
       "  </tbody>\n",
       "</table>\n",
       "</div>"
      ],
      "text/plain": [
       "          date Series Name  Underlying Close Expiration  ATM premium  \\\n",
       "592 2021-09-27         U21             970.2 2021-09-29         10.1   \n",
       "593 2021-09-28         U21             968.6 2021-09-29          8.5   \n",
       "594 2021-09-29         U21             970.2 2021-09-29          4.4   \n",
       "\n",
       "     +/-1 OTM premium Validate_DTE  validate_change  daily return  range  \\\n",
       "592               1.0       2 days              3.4      0.003517    3.4   \n",
       "593               0.6       1 days             -1.6     -0.001649   -1.6   \n",
       "594               0.2       0 days              1.6      0.001652    1.6   \n",
       "\n",
       "     atm_change  otm_change  atm_lag  +/-1 Otm_lag  \n",
       "592        -6.2        -1.8     16.3           2.8  \n",
       "593        -1.6        -0.4     10.1           1.0  \n",
       "594        -4.1        -0.4      8.5           0.6  "
      ]
     },
     "execution_count": 29,
     "metadata": {},
     "output_type": "execute_result"
    }
   ],
   "source": [
    "preprocess.tail(3)"
   ]
  },
  {
   "cell_type": "code",
   "execution_count": 30,
   "id": "1f02cf1a-6b7e-48c1-a820-d07e2db56222",
   "metadata": {},
   "outputs": [
    {
     "data": {
      "text/html": [
       "<div>\n",
       "<style scoped>\n",
       "    .dataframe tbody tr th:only-of-type {\n",
       "        vertical-align: middle;\n",
       "    }\n",
       "\n",
       "    .dataframe tbody tr th {\n",
       "        vertical-align: top;\n",
       "    }\n",
       "\n",
       "    .dataframe thead th {\n",
       "        text-align: right;\n",
       "    }\n",
       "</style>\n",
       "<table border=\"1\" class=\"dataframe\">\n",
       "  <thead>\n",
       "    <tr style=\"text-align: right;\">\n",
       "      <th></th>\n",
       "      <th>Underlying Close</th>\n",
       "      <th>ATM premium</th>\n",
       "      <th>+/-1 OTM premium</th>\n",
       "      <th>Validate_DTE</th>\n",
       "      <th>validate_change</th>\n",
       "      <th>daily return</th>\n",
       "      <th>range</th>\n",
       "      <th>atm_change</th>\n",
       "      <th>otm_change</th>\n",
       "      <th>atm_lag</th>\n",
       "      <th>+/-1 Otm_lag</th>\n",
       "    </tr>\n",
       "  </thead>\n",
       "  <tbody>\n",
       "    <tr>\n",
       "      <th>count</th>\n",
       "      <td>595.000000</td>\n",
       "      <td>592.000000</td>\n",
       "      <td>595.000000</td>\n",
       "      <td>595</td>\n",
       "      <td>595.000000</td>\n",
       "      <td>594.000000</td>\n",
       "      <td>594.000000</td>\n",
       "      <td>588.000000</td>\n",
       "      <td>594.000000</td>\n",
       "      <td>591.000000</td>\n",
       "      <td>594.000000</td>\n",
       "    </tr>\n",
       "    <tr>\n",
       "      <th>mean</th>\n",
       "      <td>949.979496</td>\n",
       "      <td>48.614865</td>\n",
       "      <td>30.184202</td>\n",
       "      <td>50 days 06:34:29.243697479</td>\n",
       "      <td>-0.152101</td>\n",
       "      <td>-0.000081</td>\n",
       "      <td>-0.238384</td>\n",
       "      <td>-0.369898</td>\n",
       "      <td>-0.034848</td>\n",
       "      <td>48.689679</td>\n",
       "      <td>30.234680</td>\n",
       "    </tr>\n",
       "    <tr>\n",
       "      <th>std</th>\n",
       "      <td>107.235427</td>\n",
       "      <td>27.415832</td>\n",
       "      <td>25.722697</td>\n",
       "      <td>29 days 18:35:24.032951502</td>\n",
       "      <td>14.193315</td>\n",
       "      <td>0.017107</td>\n",
       "      <td>14.557773</td>\n",
       "      <td>8.006717</td>\n",
       "      <td>8.820449</td>\n",
       "      <td>27.378508</td>\n",
       "      <td>25.714865</td>\n",
       "    </tr>\n",
       "    <tr>\n",
       "      <th>min</th>\n",
       "      <td>663.100000</td>\n",
       "      <td>1.600000</td>\n",
       "      <td>0.000000</td>\n",
       "      <td>0 days 00:00:00</td>\n",
       "      <td>-97.600000</td>\n",
       "      <td>-0.118778</td>\n",
       "      <td>-97.600000</td>\n",
       "      <td>-24.200000</td>\n",
       "      <td>-35.800000</td>\n",
       "      <td>1.600000</td>\n",
       "      <td>0.000000</td>\n",
       "    </tr>\n",
       "    <tr>\n",
       "      <th>25%</th>\n",
       "      <td>878.450000</td>\n",
       "      <td>33.700000</td>\n",
       "      <td>15.500000</td>\n",
       "      <td>25 days 00:00:00</td>\n",
       "      <td>-6.000000</td>\n",
       "      <td>-0.006550</td>\n",
       "      <td>-6.075000</td>\n",
       "      <td>-2.700000</td>\n",
       "      <td>-1.900000</td>\n",
       "      <td>33.800000</td>\n",
       "      <td>15.550000</td>\n",
       "    </tr>\n",
       "    <tr>\n",
       "      <th>50%</th>\n",
       "      <td>947.300000</td>\n",
       "      <td>43.500000</td>\n",
       "      <td>24.300000</td>\n",
       "      <td>49 days 00:00:00</td>\n",
       "      <td>0.000000</td>\n",
       "      <td>0.000107</td>\n",
       "      <td>0.100000</td>\n",
       "      <td>-1.100000</td>\n",
       "      <td>-0.800000</td>\n",
       "      <td>43.500000</td>\n",
       "      <td>24.350000</td>\n",
       "    </tr>\n",
       "    <tr>\n",
       "      <th>75%</th>\n",
       "      <td>1058.250000</td>\n",
       "      <td>55.575000</td>\n",
       "      <td>35.150000</td>\n",
       "      <td>76 days 00:00:00</td>\n",
       "      <td>6.400000</td>\n",
       "      <td>0.006845</td>\n",
       "      <td>6.600000</td>\n",
       "      <td>0.400000</td>\n",
       "      <td>0.100000</td>\n",
       "      <td>55.650000</td>\n",
       "      <td>35.225000</td>\n",
       "    </tr>\n",
       "    <tr>\n",
       "      <th>max</th>\n",
       "      <td>1157.200000</td>\n",
       "      <td>162.000000</td>\n",
       "      <td>146.600000</td>\n",
       "      <td>104 days 00:00:00</td>\n",
       "      <td>72.500000</td>\n",
       "      <td>0.105378</td>\n",
       "      <td>72.500000</td>\n",
       "      <td>97.400000</td>\n",
       "      <td>118.600000</td>\n",
       "      <td>162.000000</td>\n",
       "      <td>146.600000</td>\n",
       "    </tr>\n",
       "  </tbody>\n",
       "</table>\n",
       "</div>"
      ],
      "text/plain": [
       "       Underlying Close  ATM premium  +/-1 OTM premium  \\\n",
       "count        595.000000   592.000000        595.000000   \n",
       "mean         949.979496    48.614865         30.184202   \n",
       "std          107.235427    27.415832         25.722697   \n",
       "min          663.100000     1.600000          0.000000   \n",
       "25%          878.450000    33.700000         15.500000   \n",
       "50%          947.300000    43.500000         24.300000   \n",
       "75%         1058.250000    55.575000         35.150000   \n",
       "max         1157.200000   162.000000        146.600000   \n",
       "\n",
       "                     Validate_DTE  validate_change  daily return       range  \\\n",
       "count                         595       595.000000    594.000000  594.000000   \n",
       "mean   50 days 06:34:29.243697479        -0.152101     -0.000081   -0.238384   \n",
       "std    29 days 18:35:24.032951502        14.193315      0.017107   14.557773   \n",
       "min               0 days 00:00:00       -97.600000     -0.118778  -97.600000   \n",
       "25%              25 days 00:00:00        -6.000000     -0.006550   -6.075000   \n",
       "50%              49 days 00:00:00         0.000000      0.000107    0.100000   \n",
       "75%              76 days 00:00:00         6.400000      0.006845    6.600000   \n",
       "max             104 days 00:00:00        72.500000      0.105378   72.500000   \n",
       "\n",
       "       atm_change  otm_change     atm_lag  +/-1 Otm_lag  \n",
       "count  588.000000  594.000000  591.000000    594.000000  \n",
       "mean    -0.369898   -0.034848   48.689679     30.234680  \n",
       "std      8.006717    8.820449   27.378508     25.714865  \n",
       "min    -24.200000  -35.800000    1.600000      0.000000  \n",
       "25%     -2.700000   -1.900000   33.800000     15.550000  \n",
       "50%     -1.100000   -0.800000   43.500000     24.350000  \n",
       "75%      0.400000    0.100000   55.650000     35.225000  \n",
       "max     97.400000  118.600000  162.000000    146.600000  "
      ]
     },
     "execution_count": 30,
     "metadata": {},
     "output_type": "execute_result"
    }
   ],
   "source": [
    "preprocess.describe()"
   ]
  },
  {
   "cell_type": "code",
   "execution_count": 31,
   "id": "69b34f49-62e4-4d28-a441-a0c66105ccad",
   "metadata": {},
   "outputs": [
    {
     "data": {
      "text/plain": [
       "array(['U19', 'Z19', 'H20', 'M20', 'U20', 'Z20', 'H21', 'M21', 'U21'],\n",
       "      dtype=object)"
      ]
     },
     "execution_count": 31,
     "metadata": {},
     "output_type": "execute_result"
    }
   ],
   "source": [
    "preprocess['Series Name'].unique()"
   ]
  },
  {
   "cell_type": "markdown",
   "id": "6d70e1ee-a7a3-44b7-b6de-4acf67e5a7b2",
   "metadata": {},
   "source": [
    "### EDA Overview\n",
    "\n",
    "This is a data collected during a Pandemic Market Crash. The price of any assets tend to fluctuate more violently compared to the normal situation.\n",
    "\n",
    "* Overall, There Are 592 \"Observations from 2019-2021.\n",
    "* There are 9 different Series along those 2 years from U19 to U21. (Q3 2019 to Q3 2021)\n",
    "\n",
    "First of all let's plot the underlying price. This is the SET50 Index Future Contract nearest expiration price."
   ]
  },
  {
   "cell_type": "code",
   "execution_count": 32,
   "id": "3ab98c40-7cf2-4443-b11e-becc39d6aba8",
   "metadata": {},
   "outputs": [
    {
     "data": {
      "image/png": "[encoded data removed]",
      "text/plain": [
       "<Figure size 1080x432 with 1 Axes>"
      ]
     },
     "metadata": {
      "needs_background": "light"
     },
     "output_type": "display_data"
    }
   ],
   "source": [
    "interval = [i*25 for i in range(26,48)]\n",
    "\n",
    "ax,fig = plt.subplots(figsize=(15,6))\n",
    "for symbol in preprocess['Series Name'].unique():\n",
    "    plt.plot(preprocess.loc[preprocess['Series Name'] == symbol, 'date'],\n",
    "                preprocess.loc[preprocess['Series Name'] == symbol, 'Underlying Close'],label=symbol)\n",
    "plt.title('SET50 Future Close Price')\n",
    "plt.grid()\n",
    "plt.yticks(interval)\n",
    "plt.vlines(['2020-03-09','2020-03-12','2020-03-23'],ymin=600,ymax=1200,label='Circuit Break',linestyles='dashed',colors='orange')\n",
    "plt.legend()\n",
    "plt.show()"
   ]
  },
  {
   "cell_type": "markdown",
   "id": "4bc5f83e-d531-4ed2-a9ec-f35732e62e3b",
   "metadata": {},
   "source": [
    "From 592 observations, The most prominent characteristic from SET50 Future closing price was that the steep drop at Q1 2020. The global market has been hit so hard with the COVID-19 and most market crashed including Thai stock market.\n",
    "\n",
    "However, after 3 consecutive Circuit Breaks, the market rebounded stedily.\n",
    "\n",
    "Again, the objective of this notebook is to explore the Options price, which partly derived from the volatility of the underlying (SET50 Index Future Closing Price). Thus, let's take a look at the distribution of all closing price."
   ]
  },
  {
   "cell_type": "code",
   "execution_count": 33,
   "id": "fbc35c99-b698-4378-b61e-fbdc4359a72c",
   "metadata": {},
   "outputs": [
    {
     "data": {
      "image/png": "[encoded data removed]",
      "text/plain": [
       "<Figure size 504x288 with 1 Axes>"
      ]
     },
     "metadata": {
      "needs_background": "light"
     },
     "output_type": "display_data"
    }
   ],
   "source": [
    "interval = [i*25 for i in range(24,46)]\n",
    "\n",
    "fig = plt.subplots(figsize=(7,4))\n",
    "plt.grid(axis='y')\n",
    "plt.title('SET50 Future Close Distribution')\n",
    "plt.hist(preprocess['Underlying Close'],bins=interval,orientation='vertical',linewidth=0.5,edgecolor='white')\n",
    "plt.xticks(interval,rotation=90)\n",
    "\n",
    "plt.show()"
   ]
  },
  {
   "cell_type": "markdown",
   "id": "2b0134c6-699a-4a8c-9a28-d7f84f156886",
   "metadata": {},
   "source": [
    "Price clustered around 900-975 and 1050-1100. However the left skew is due to the Global Crash. At the Crash, the lowest Close was around 675."
   ]
  },
  {
   "cell_type": "markdown",
   "id": "b0f6edaf-acd3-4437-81c2-947ce7329bec",
   "metadata": {},
   "source": [
    "### Now, lets explore the option price.\n",
    "\n"
   ]
  },
  {
   "cell_type": "markdown",
   "id": "73f285ef-b579-49fc-b308-fc0aa93c83a3",
   "metadata": {},
   "source": [
    "______\n",
    "Note: \"ATM premium\" and \"+/-1 OTM premium\" mean \"Combined Put and Call premium at ATM\" and \"Combined 1 strike lower Put and 1 strike higher Call premium\" respectlively."
   ]
  },
  {
   "cell_type": "markdown",
   "id": "b4be87c7-dedd-4a54-88a5-6d18e880fccb",
   "metadata": {},
   "source": [
    "### Option Price by Series.\n",
    "\n",
    "Let's begin with plotting total ATM and +/-1 OTM premium on daily basis."
   ]
  },
  {
   "cell_type": "code",
   "execution_count": 34,
   "id": "391eb461-d017-4e57-971c-3a54e207f920",
   "metadata": {},
   "outputs": [
    {
     "data": {
      "image/png": "[encoded data removed]",
      "text/plain": [
       "<Figure size 1080x720 with 9 Axes>"
      ]
     },
     "metadata": {
      "needs_background": "light"
     },
     "output_type": "display_data"
    }
   ],
   "source": [
    "fig = plt.figure(figsize=(15,10))\n",
    "for i,symbol in enumerate(preprocess['Series Name'].unique()):\n",
    "    plt.subplot(3,3,i+1)\n",
    "    plt.suptitle('Options Premium by date')\n",
    "    plt.title(symbol)\n",
    "    plt.tight_layout()\n",
    "    plt.plot(preprocess.loc[preprocess['Series Name'] == symbol, 'date'],\n",
    "             preprocess.loc[preprocess['Series Name'] == symbol, 'ATM premium'],label=symbol)\n",
    "    plt.grid()\n",
    "    plt.xticks(rotation=90)"
   ]
  },
  {
   "cell_type": "markdown",
   "id": "c9852401-085a-4e63-a782-23e40cee66d1",
   "metadata": {},
   "source": [
    "### Let's see how much Options worth from begining to the expiration."
   ]
  },
  {
   "cell_type": "code",
   "execution_count": 35,
   "id": "b5fa2149-f22a-4982-b132-924ed83914e3",
   "metadata": {},
   "outputs": [
    {
     "data": {
      "image/png": "[encoded data removed]",
      "text/plain": [
       "<Figure size 576x360 with 1 Axes>"
      ]
     },
     "metadata": {
      "needs_background": "light"
     },
     "output_type": "display_data"
    }
   ],
   "source": [
    "fig = plt.figure(figsize=(8,5))\n",
    "for serie in preprocess['Series Name'].unique():\n",
    "    interval = range(len(preprocess.loc[preprocess['Series Name'] == serie]))\n",
    "    plt.plot(interval, preprocess.loc[preprocess['Series Name'] == serie, 'ATM premium'],label = serie)\n",
    "plt.title('Total ATM premium')\n",
    "plt.xlabel('Options age (Day)')\n",
    "plt.grid()\n",
    "plt.legend()\n",
    "plt.show()"
   ]
  },
  {
   "cell_type": "code",
   "execution_count": 36,
   "id": "93255bf8-04c6-4e2e-aa30-66be7d576c59",
   "metadata": {},
   "outputs": [
    {
     "data": {
      "image/png": "[encoded data removed]",
      "text/plain": [
       "<Figure size 576x360 with 1 Axes>"
      ]
     },
     "metadata": {
      "needs_background": "light"
     },
     "output_type": "display_data"
    }
   ],
   "source": [
    "fig = plt.figure(figsize=(8,5))\n",
    "for serie in preprocess['Series Name'].unique():\n",
    "    interval = range(len(preprocess.loc[preprocess['Series Name'] == serie]))\n",
    "    plt.plot(interval, preprocess.loc[preprocess['Series Name'] == serie, '+/-1 OTM premium'],label = serie)\n",
    "plt.title('Total +/-1 OTM premium')\n",
    "plt.xlabel('Options age (Day)')\n",
    "plt.grid()\n",
    "plt.legend()\n",
    "plt.show()"
   ]
  },
  {
   "cell_type": "markdown",
   "id": "d04ec12a-976e-4d59-8e53-2d6525304364",
   "metadata": {},
   "source": [
    "Considering both of the plot, there are 4 clusters:\n",
    "     \n",
    "   * **The COVID Crash** - Which have very high premium. \n",
    "       * M20\n",
    "   * **The Transition** - Between Normal Market and Volatile Market -  High Premium Spike at the transition.\n",
    "       * Late H20\n",
    "       * Late Z20\n",
    "   * **The Hi Underlying Volatility**\n",
    "       * U20\n",
    "       * H21\n",
    "   * **The Normal Market**\n",
    "       * All the Others: U19, Z19, M21, U21\n",
    "       \n",
    "The ATM is naturally more expensive than +/-1 OTM premium from the higher Intrinsic values while OTM only process time value with zero intrinsic value. \n",
    "       \n",
    "Let's take a snap shot at **91,90,89,61,60,59,31,30,29** days to expiration to see the premium level at each category (Just in case that the exact 90/60,30 are a holiday so I add a day before and after to the analysis).\n",
    "\n",
    "### Scatterplot at month beginning"
   ]
  },
  {
   "cell_type": "code",
   "execution_count": 37,
   "id": "d134cd3f-6477-4f44-98fc-0acfbf615fec",
   "metadata": {
    "tags": []
   },
   "outputs": [
    {
     "name": "stderr",
     "output_type": "stream",
     "text": [
      "/var/folders/2c/ftb5blb955vg1y_ch6hdt1_h0000gn/T/ipykernel_3072/3239277814.py:20: SettingWithCopyWarning: \n",
      "A value is trying to be set on a copy of a slice from a DataFrame.\n",
      "Try using .loc[row_indexer,col_indexer] = value instead\n",
      "\n",
      "See the caveats in the documentation: https://pandas.pydata.org/pandas-docs/stable/user_guide/indexing.html#returning-a-view-versus-a-copy\n",
      "  for_scatter['category'] = np.select(condition,category) #poppulate a column with a conditional array\n"
     ]
    }
   ],
   "source": [
    "import datetime as dt\n",
    "\n",
    "crash_series = ['M20']\n",
    "trans_series = ['H20', 'Z20']\n",
    "hi_vol_series = ['U20','H21']\n",
    "normal_series = ['U19','Z19','M21','U21']\n",
    "\n",
    "snap = [pd.to_timedelta(i, unit='d')for i in [91,90,89,61,60,59,31,30,29]]\n",
    "for_scatter = preprocess.loc[preprocess['Validate_DTE'].isin(snap)]\n",
    "\n",
    "condition = [\n",
    "    for_scatter['Series Name'].isin(crash_series),\n",
    "    for_scatter['Series Name'].isin(trans_series),\n",
    "    for_scatter['Series Name'].isin(hi_vol_series),\n",
    "    for_scatter['Series Name'].isin(normal_series),   \n",
    "]\n",
    "\n",
    "category = ['crash_series','trans_series','hi_vol_series','normal_series']\n",
    "\n",
    "for_scatter['category'] = np.select(condition,category) #poppulate a column with a conditional array"
   ]
  },
  {
   "cell_type": "code",
   "execution_count": 39,
   "id": "39f04af5-4439-4783-bf2b-30bd5bb08771",
   "metadata": {
    "tags": []
   },
   "outputs": [
    {
     "name": "stderr",
     "output_type": "stream",
     "text": [
      "/Library/Frameworks/Python.framework/Versions/3.9/lib/python3.9/site-packages/seaborn/_decorators.py:36: FutureWarning: Pass the following variables as keyword args: x, y. From version 0.12, the only valid positional argument will be `data`, and passing other arguments without an explicit keyword will result in an error or misinterpretation.\n",
      "  warnings.warn(\n",
      "/Library/Frameworks/Python.framework/Versions/3.9/lib/python3.9/site-packages/seaborn/_decorators.py:36: FutureWarning: Pass the following variables as keyword args: x, y. From version 0.12, the only valid positional argument will be `data`, and passing other arguments without an explicit keyword will result in an error or misinterpretation.\n",
      "  warnings.warn(\n"
     ]
    },
    {
     "data": {
      "image/png": "[encoded data removed]",
      "text/plain": [
       "<Figure size 1152x720 with 2 Axes>"
      ]
     },
     "metadata": {
      "needs_background": "light"
     },
     "output_type": "display_data"
    }
   ],
   "source": [
    "import seaborn as sns\n",
    "\n",
    "fig = plt.figure(figsize=(16,10))\n",
    "plt.subplot(221)\n",
    "sns.scatterplot(for_scatter['Validate_DTE'].dt.days,for_scatter['ATM premium'],data=for_scatter,hue='category',s=100,alpha=0.5,)\n",
    "plt.title('ATM premium at ')\n",
    "plt.xticks([91,90,89,61,60,59,31,30,29])\n",
    "plt.yticks(np.arange(10,160,10))\n",
    "plt.grid(axis='y')\n",
    "\n",
    "plt.subplot(222)\n",
    "sns.scatterplot(for_scatter['Validate_DTE'].dt.days,for_scatter['+/-1 OTM premium'],data=for_scatter,hue='category',s=100,alpha=0.5,)\n",
    "plt.title('+/-1 OTM premium at ')\n",
    "plt.xticks([91,90,89,61,60,59,31,30,29])\n",
    "plt.yticks(np.arange(10,160,10))\n",
    "plt.grid(axis='y')\n",
    "\n",
    "\n",
    "plt.show()"
   ]
  },
  {
   "cell_type": "markdown",
   "id": "d3ca73bc-ed70-43fe-acda-1f692dd44b05",
   "metadata": {},
   "source": [
    "At the beginning of each month Crash Series and Hi Vol Series have a very distinct price\n",
    "* ##### At 90 days to expirataion\n",
    "    * Crash ATM -> around 148 : Crash OTM -> around 120\n",
    "    * Hi_vol ATM -> around 95 : Hi_vol OTM -> around 72\n",
    "    * Normal and trans ATM -> around 50 : Normal and trans OTM -> around 35\n",
    "* ##### At 60 to expirataion\n",
    "    * Crash ATM -> around 110 : Crash OTM -> around 85\n",
    "    * Hi_vol ATM -> around 75 : Hi_vol OTM -> around 50\n",
    "    * Normal and trans ATM -> around 40 : Normal and trans OTM -> around 20\n",
    "* ##### At 30 to expirataion \n",
    "    at this stage the time decay will have a very big effect on price. We would see a steep drop in options premium.\n",
    "    \n",
    "    * Crash ATM -> around 60 : Crash OTM -> around 40\n",
    "    * Hi_vol ATM -> around 40 : Hi_vol OTM -> around 20\n",
    "    * Normal ATM-> around 35 : NormalOTM -> around 15\n",
    "    * Transistion ATM-> around 50 : Transistion OTM -> around 30 \n",
    "      (since the Volatility Spike, so does the premium for Tansition Serie)\n"
   ]
  },
  {
   "cell_type": "markdown",
   "id": "cff9b094-7127-446c-a845-bee1a947fffb",
   "metadata": {},
   "source": [
    "### Quantify the volatility\n",
    "\n",
    "The above plots show the rough overview of the option pricing effected by time to maturity and underlying volatility. However, the latter has been only categorized by loonking back. Looking foward is another story. Since we don't know the future, to model an option pricing both volatility and time to exporation should be quantify. Day to Expiration is easy. Let's explore the simple quantification for underlying volatility."
   ]
  },
  {
   "cell_type": "code",
   "execution_count": 40,
   "id": "917e2eca-39b0-4086-8f19-498c48e85d59",
   "metadata": {},
   "outputs": [
    {
     "data": {
      "image/png": "[encoded data removed]",
      "text/plain": [
       "<Figure size 720x360 with 1 Axes>"
      ]
     },
     "metadata": {
      "needs_background": "light"
     },
     "output_type": "display_data"
    }
   ],
   "source": [
    "interval = [i*25 for i in range(26,48)]\n",
    "\n",
    "ax,fig = plt.subplots(figsize=(10,5))\n",
    "for symbol in preprocess['Series Name'].unique():\n",
    "    plt.plot(preprocess.loc[preprocess['Series Name'] == symbol, 'date'],\n",
    "                preprocess.loc[preprocess['Series Name'] == symbol, 'Underlying Close'],label=symbol)\n",
    "plt.title('SET50 Future Close Price')\n",
    "plt.grid()\n",
    "plt.yticks(interval)\n",
    "plt.vlines(['2020-03-09','2020-03-12','2020-03-23'],ymin=600,ymax=1200,label='Circuit Break',linestyles='dashed',colors='orange')\n",
    "plt.legend()\n",
    "plt.show()"
   ]
  },
  {
   "cell_type": "markdown",
   "id": "30abc4b8-fb47-435b-8939-add2cba46276",
   "metadata": {},
   "source": [
    "From the historical price chart above, One way to simply express the price movement is to show it in term of price range and percentage return.\n",
    "\n",
    "those price feature and some other features have already been calculated in feature engineering section"
   ]
  },
  {
   "cell_type": "markdown",
   "id": "ab36437b-a5db-4fce-ac00-61a143b4fef9",
   "metadata": {},
   "source": [
    "Let's check missing values"
   ]
  },
  {
   "cell_type": "code",
   "execution_count": 41,
   "id": "ad16ff9d-6d34-49f0-b893-d05fb89cc713",
   "metadata": {},
   "outputs": [
    {
     "data": {
      "text/plain": [
       "date                0\n",
       "Series Name         0\n",
       "Underlying Close    0\n",
       "Expiration          0\n",
       "ATM premium         3\n",
       "+/-1 OTM premium    0\n",
       "Validate_DTE        0\n",
       "validate_change     0\n",
       "daily return        1\n",
       "range               1\n",
       "atm_change          7\n",
       "otm_change          1\n",
       "atm_lag             4\n",
       "+/-1 Otm_lag        1\n",
       "dtype: int64"
      ]
     },
     "execution_count": 41,
     "metadata": {},
     "output_type": "execute_result"
    }
   ],
   "source": [
    "preprocess.isna().sum()"
   ]
  },
  {
   "cell_type": "markdown",
   "id": "41f9a101-b886-4c9b-82c4-b99392074d61",
   "metadata": {},
   "source": [
    "Those missings mostly came from the 3 missing ATM at the COVID circuit breaker, and being the first entry in the dataset."
   ]
  },
  {
   "cell_type": "code",
   "execution_count": 42,
   "id": "5e53aa2c-3fa7-4ae2-b003-1a154f049d22",
   "metadata": {},
   "outputs": [
    {
     "data": {
      "text/html": [
       "<div>\n",
       "<style scoped>\n",
       "    .dataframe tbody tr th:only-of-type {\n",
       "        vertical-align: middle;\n",
       "    }\n",
       "\n",
       "    .dataframe tbody tr th {\n",
       "        vertical-align: top;\n",
       "    }\n",
       "\n",
       "    .dataframe thead th {\n",
       "        text-align: right;\n",
       "    }\n",
       "</style>\n",
       "<table border=\"1\" class=\"dataframe\">\n",
       "  <thead>\n",
       "    <tr style=\"text-align: right;\">\n",
       "      <th></th>\n",
       "      <th>date</th>\n",
       "      <th>Series Name</th>\n",
       "      <th>Underlying Close</th>\n",
       "      <th>Expiration</th>\n",
       "      <th>ATM premium</th>\n",
       "      <th>+/-1 OTM premium</th>\n",
       "      <th>Validate_DTE</th>\n",
       "      <th>validate_change</th>\n",
       "      <th>daily return</th>\n",
       "      <th>range</th>\n",
       "      <th>atm_change</th>\n",
       "      <th>otm_change</th>\n",
       "      <th>atm_lag</th>\n",
       "      <th>+/-1 Otm_lag</th>\n",
       "    </tr>\n",
       "  </thead>\n",
       "  <tbody>\n",
       "    <tr>\n",
       "      <th>0</th>\n",
       "      <td>2019-06-18</td>\n",
       "      <td>U19</td>\n",
       "      <td>1111.8</td>\n",
       "      <td>2019-09-27</td>\n",
       "      <td>38.8</td>\n",
       "      <td>20.9</td>\n",
       "      <td>101 days</td>\n",
       "      <td>0.0</td>\n",
       "      <td>NaN</td>\n",
       "      <td>NaN</td>\n",
       "      <td>NaN</td>\n",
       "      <td>NaN</td>\n",
       "      <td>NaN</td>\n",
       "      <td>NaN</td>\n",
       "    </tr>\n",
       "    <tr>\n",
       "      <th>188</th>\n",
       "      <td>2020-03-09</td>\n",
       "      <td>H20</td>\n",
       "      <td>822.3</td>\n",
       "      <td>2020-03-30</td>\n",
       "      <td>NaN</td>\n",
       "      <td>0.0</td>\n",
       "      <td>21 days</td>\n",
       "      <td>-92.3</td>\n",
       "      <td>-0.100918</td>\n",
       "      <td>-92.3</td>\n",
       "      <td>NaN</td>\n",
       "      <td>-21.6</td>\n",
       "      <td>38.1</td>\n",
       "      <td>21.6</td>\n",
       "    </tr>\n",
       "    <tr>\n",
       "      <th>189</th>\n",
       "      <td>2020-03-10</td>\n",
       "      <td>H20</td>\n",
       "      <td>843.7</td>\n",
       "      <td>2020-03-30</td>\n",
       "      <td>60.9</td>\n",
       "      <td>39.6</td>\n",
       "      <td>20 days</td>\n",
       "      <td>21.4</td>\n",
       "      <td>0.026025</td>\n",
       "      <td>21.4</td>\n",
       "      <td>NaN</td>\n",
       "      <td>39.6</td>\n",
       "      <td>NaN</td>\n",
       "      <td>0.0</td>\n",
       "    </tr>\n",
       "    <tr>\n",
       "      <th>191</th>\n",
       "      <td>2020-03-12</td>\n",
       "      <td>H20</td>\n",
       "      <td>724.1</td>\n",
       "      <td>2020-03-30</td>\n",
       "      <td>NaN</td>\n",
       "      <td>0.0</td>\n",
       "      <td>18 days</td>\n",
       "      <td>-97.6</td>\n",
       "      <td>-0.118778</td>\n",
       "      <td>-97.6</td>\n",
       "      <td>NaN</td>\n",
       "      <td>-35.8</td>\n",
       "      <td>56.0</td>\n",
       "      <td>35.8</td>\n",
       "    </tr>\n",
       "    <tr>\n",
       "      <th>192</th>\n",
       "      <td>2020-03-13</td>\n",
       "      <td>H20</td>\n",
       "      <td>747.0</td>\n",
       "      <td>2020-03-30</td>\n",
       "      <td>74.0</td>\n",
       "      <td>55.4</td>\n",
       "      <td>17 days</td>\n",
       "      <td>22.9</td>\n",
       "      <td>0.031625</td>\n",
       "      <td>22.9</td>\n",
       "      <td>NaN</td>\n",
       "      <td>55.4</td>\n",
       "      <td>NaN</td>\n",
       "      <td>0.0</td>\n",
       "    </tr>\n",
       "    <tr>\n",
       "      <th>204</th>\n",
       "      <td>2020-03-23</td>\n",
       "      <td>M20</td>\n",
       "      <td>663.1</td>\n",
       "      <td>2020-06-29</td>\n",
       "      <td>NaN</td>\n",
       "      <td>119.0</td>\n",
       "      <td>98 days</td>\n",
       "      <td>0.0</td>\n",
       "      <td>-0.093259</td>\n",
       "      <td>-68.2</td>\n",
       "      <td>NaN</td>\n",
       "      <td>118.6</td>\n",
       "      <td>6.8</td>\n",
       "      <td>0.4</td>\n",
       "    </tr>\n",
       "    <tr>\n",
       "      <th>205</th>\n",
       "      <td>2020-03-24</td>\n",
       "      <td>M20</td>\n",
       "      <td>690.2</td>\n",
       "      <td>2020-06-29</td>\n",
       "      <td>149.1</td>\n",
       "      <td>128.3</td>\n",
       "      <td>97 days</td>\n",
       "      <td>27.1</td>\n",
       "      <td>0.040869</td>\n",
       "      <td>27.1</td>\n",
       "      <td>NaN</td>\n",
       "      <td>9.3</td>\n",
       "      <td>NaN</td>\n",
       "      <td>119.0</td>\n",
       "    </tr>\n",
       "  </tbody>\n",
       "</table>\n",
       "</div>"
      ],
      "text/plain": [
       "          date Series Name  Underlying Close Expiration  ATM premium  \\\n",
       "0   2019-06-18         U19            1111.8 2019-09-27         38.8   \n",
       "188 2020-03-09         H20             822.3 2020-03-30          NaN   \n",
       "189 2020-03-10         H20             843.7 2020-03-30         60.9   \n",
       "191 2020-03-12         H20             724.1 2020-03-30          NaN   \n",
       "192 2020-03-13         H20             747.0 2020-03-30         74.0   \n",
       "204 2020-03-23         M20             663.1 2020-06-29          NaN   \n",
       "205 2020-03-24         M20             690.2 2020-06-29        149.1   \n",
       "\n",
       "     +/-1 OTM premium Validate_DTE  validate_change  daily return  range  \\\n",
       "0                20.9     101 days              0.0           NaN    NaN   \n",
       "188               0.0      21 days            -92.3     -0.100918  -92.3   \n",
       "189              39.6      20 days             21.4      0.026025   21.4   \n",
       "191               0.0      18 days            -97.6     -0.118778  -97.6   \n",
       "192              55.4      17 days             22.9      0.031625   22.9   \n",
       "204             119.0      98 days              0.0     -0.093259  -68.2   \n",
       "205             128.3      97 days             27.1      0.040869   27.1   \n",
       "\n",
       "     atm_change  otm_change  atm_lag  +/-1 Otm_lag  \n",
       "0           NaN         NaN      NaN           NaN  \n",
       "188         NaN       -21.6     38.1          21.6  \n",
       "189         NaN        39.6      NaN           0.0  \n",
       "191         NaN       -35.8     56.0          35.8  \n",
       "192         NaN        55.4      NaN           0.0  \n",
       "204         NaN       118.6      6.8           0.4  \n",
       "205         NaN         9.3      NaN         119.0  "
      ]
     },
     "execution_count": 42,
     "metadata": {},
     "output_type": "execute_result"
    }
   ],
   "source": [
    "preprocess.loc[preprocess['atm_change'].isna()]"
   ]
  },
  {
   "cell_type": "markdown",
   "id": "9263dc74-5ea0-46f4-ad8c-b9d25d550296",
   "metadata": {},
   "source": [
    "Let's set zero all the first entry"
   ]
  },
  {
   "cell_type": "code",
   "execution_count": 43,
   "id": "5777dfa6-6d95-4074-a4c9-cbbe4a19cb8a",
   "metadata": {},
   "outputs": [
    {
     "data": {
      "text/html": [
       "<div>\n",
       "<style scoped>\n",
       "    .dataframe tbody tr th:only-of-type {\n",
       "        vertical-align: middle;\n",
       "    }\n",
       "\n",
       "    .dataframe tbody tr th {\n",
       "        vertical-align: top;\n",
       "    }\n",
       "\n",
       "    .dataframe thead th {\n",
       "        text-align: right;\n",
       "    }\n",
       "</style>\n",
       "<table border=\"1\" class=\"dataframe\">\n",
       "  <thead>\n",
       "    <tr style=\"text-align: right;\">\n",
       "      <th></th>\n",
       "      <th>date</th>\n",
       "      <th>Series Name</th>\n",
       "      <th>Underlying Close</th>\n",
       "      <th>Expiration</th>\n",
       "      <th>ATM premium</th>\n",
       "      <th>+/-1 OTM premium</th>\n",
       "      <th>Validate_DTE</th>\n",
       "      <th>validate_change</th>\n",
       "      <th>daily return</th>\n",
       "      <th>range</th>\n",
       "      <th>atm_change</th>\n",
       "      <th>otm_change</th>\n",
       "      <th>atm_lag</th>\n",
       "      <th>+/-1 Otm_lag</th>\n",
       "    </tr>\n",
       "  </thead>\n",
       "  <tbody>\n",
       "    <tr>\n",
       "      <th>0</th>\n",
       "      <td>2019-06-18</td>\n",
       "      <td>U19</td>\n",
       "      <td>1111.8</td>\n",
       "      <td>2019-09-27</td>\n",
       "      <td>38.8</td>\n",
       "      <td>20.9</td>\n",
       "      <td>101 days</td>\n",
       "      <td>0.0</td>\n",
       "      <td>NaN</td>\n",
       "      <td>NaN</td>\n",
       "      <td>NaN</td>\n",
       "      <td>NaN</td>\n",
       "      <td>NaN</td>\n",
       "      <td>NaN</td>\n",
       "    </tr>\n",
       "  </tbody>\n",
       "</table>\n",
       "</div>"
      ],
      "text/plain": [
       "        date Series Name  Underlying Close Expiration  ATM premium  \\\n",
       "0 2019-06-18         U19            1111.8 2019-09-27         38.8   \n",
       "\n",
       "   +/-1 OTM premium Validate_DTE  validate_change  daily return  range  \\\n",
       "0              20.9     101 days              0.0           NaN    NaN   \n",
       "\n",
       "   atm_change  otm_change  atm_lag  +/-1 Otm_lag  \n",
       "0         NaN         NaN      NaN           NaN  "
      ]
     },
     "execution_count": 43,
     "metadata": {},
     "output_type": "execute_result"
    }
   ],
   "source": [
    "preprocess.loc[preprocess['daily return'].isna()]"
   ]
  },
  {
   "cell_type": "code",
   "execution_count": 44,
   "id": "765c01a2-a4c2-4f44-8ff0-04bb737e3692",
   "metadata": {},
   "outputs": [],
   "source": [
    "preprocess.loc[0 , 'daily return'] = 0\n",
    "preprocess.loc[0 , 'range'] = 0\n",
    "preprocess.loc[0 , 'atm_change'] = 0\n",
    "preprocess.loc[0 , 'otm_change'] = 0\n",
    "preprocess.loc[0 , 'atm_lag'] = 0\n",
    "preprocess.loc[0 , '+/-1 Otm_lag'] = 0"
   ]
  },
  {
   "cell_type": "code",
   "execution_count": 45,
   "id": "30b4e5a5-efca-4977-849a-c084f0e80e51",
   "metadata": {},
   "outputs": [
    {
     "data": {
      "text/plain": [
       "date                2019-06-18 00:00:00\n",
       "Series Name                         U19\n",
       "Underlying Close                 1111.8\n",
       "Expiration          2019-09-27 00:00:00\n",
       "ATM premium                        38.8\n",
       "+/-1 OTM premium                   20.9\n",
       "Validate_DTE          101 days 00:00:00\n",
       "validate_change                     0.0\n",
       "daily return                        0.0\n",
       "range                               0.0\n",
       "atm_change                          0.0\n",
       "otm_change                          0.0\n",
       "atm_lag                             0.0\n",
       "+/-1 Otm_lag                        0.0\n",
       "Name: 0, dtype: object"
      ]
     },
     "execution_count": 45,
     "metadata": {},
     "output_type": "execute_result"
    }
   ],
   "source": [
    "preprocess.loc[0]"
   ]
  },
  {
   "cell_type": "markdown",
   "id": "593e8b71-d8fe-443f-b4d2-4797bad16602",
   "metadata": {},
   "source": [
    "preprocess.isna().sum()"
   ]
  },
  {
   "cell_type": "markdown",
   "id": "246b0fac-bd9b-4fe0-8d7b-1fdfd841beae",
   "metadata": {},
   "source": [
    "the missing data are left with only those caused by the Circuit Breaker. They are such a rare event. Let's drop them.\n",
    "\n"
   ]
  },
  {
   "cell_type": "code",
   "execution_count": 46,
   "id": "e5a9e2e8-9fa9-4807-8e67-06f88fdec7f8",
   "metadata": {},
   "outputs": [],
   "source": [
    "preprocess.dropna(inplace=True)"
   ]
  },
  {
   "cell_type": "code",
   "execution_count": 47,
   "id": "6b79a34e-9dad-4245-9b88-bf4388a06424",
   "metadata": {},
   "outputs": [
    {
     "data": {
      "text/html": [
       "<div>\n",
       "<style scoped>\n",
       "    .dataframe tbody tr th:only-of-type {\n",
       "        vertical-align: middle;\n",
       "    }\n",
       "\n",
       "    .dataframe tbody tr th {\n",
       "        vertical-align: top;\n",
       "    }\n",
       "\n",
       "    .dataframe thead th {\n",
       "        text-align: right;\n",
       "    }\n",
       "</style>\n",
       "<table border=\"1\" class=\"dataframe\">\n",
       "  <thead>\n",
       "    <tr style=\"text-align: right;\">\n",
       "      <th></th>\n",
       "      <th>Underlying Close</th>\n",
       "      <th>ATM premium</th>\n",
       "      <th>+/-1 OTM premium</th>\n",
       "      <th>Validate_DTE</th>\n",
       "      <th>validate_change</th>\n",
       "      <th>daily return</th>\n",
       "      <th>range</th>\n",
       "      <th>atm_change</th>\n",
       "      <th>otm_change</th>\n",
       "      <th>atm_lag</th>\n",
       "      <th>+/-1 Otm_lag</th>\n",
       "    </tr>\n",
       "  </thead>\n",
       "  <tbody>\n",
       "    <tr>\n",
       "      <th>count</th>\n",
       "      <td>589.000000</td>\n",
       "      <td>589.000000</td>\n",
       "      <td>589.000000</td>\n",
       "      <td>589</td>\n",
       "      <td>589.000000</td>\n",
       "      <td>589.000000</td>\n",
       "      <td>589.000000</td>\n",
       "      <td>589.000000</td>\n",
       "      <td>589.000000</td>\n",
       "      <td>589.000000</td>\n",
       "      <td>589.000000</td>\n",
       "    </tr>\n",
       "    <tr>\n",
       "      <th>mean</th>\n",
       "      <td>952.032937</td>\n",
       "      <td>48.380306</td>\n",
       "      <td>29.910526</td>\n",
       "      <td>50 days 07:49:24.346349745</td>\n",
       "      <td>0.047538</td>\n",
       "      <td>0.000283</td>\n",
       "      <td>0.076570</td>\n",
       "      <td>-0.369270</td>\n",
       "      <td>-0.316129</td>\n",
       "      <td>48.683701</td>\n",
       "      <td>30.191171</td>\n",
       "    </tr>\n",
       "    <tr>\n",
       "      <th>std</th>\n",
       "      <td>105.612700</td>\n",
       "      <td>27.145585</td>\n",
       "      <td>25.183632</td>\n",
       "      <td>29 days 16:29:08.006504926</td>\n",
       "      <td>13.035275</td>\n",
       "      <td>0.015273</td>\n",
       "      <td>13.124922</td>\n",
       "      <td>7.999921</td>\n",
       "      <td>6.590484</td>\n",
       "      <td>27.438991</td>\n",
       "      <td>25.499554</td>\n",
       "    </tr>\n",
       "    <tr>\n",
       "      <th>min</th>\n",
       "      <td>671.000000</td>\n",
       "      <td>1.600000</td>\n",
       "      <td>0.200000</td>\n",
       "      <td>0 days 00:00:00</td>\n",
       "      <td>-89.500000</td>\n",
       "      <td>-0.117686</td>\n",
       "      <td>-89.500000</td>\n",
       "      <td>-24.200000</td>\n",
       "      <td>-16.000000</td>\n",
       "      <td>0.000000</td>\n",
       "      <td>0.000000</td>\n",
       "    </tr>\n",
       "    <tr>\n",
       "      <th>25%</th>\n",
       "      <td>881.600000</td>\n",
       "      <td>33.700000</td>\n",
       "      <td>15.500000</td>\n",
       "      <td>25 days 00:00:00</td>\n",
       "      <td>-6.000000</td>\n",
       "      <td>-0.006385</td>\n",
       "      <td>-6.000000</td>\n",
       "      <td>-2.700000</td>\n",
       "      <td>-1.900000</td>\n",
       "      <td>33.700000</td>\n",
       "      <td>15.700000</td>\n",
       "    </tr>\n",
       "    <tr>\n",
       "      <th>50%</th>\n",
       "      <td>947.800000</td>\n",
       "      <td>43.300000</td>\n",
       "      <td>24.200000</td>\n",
       "      <td>50 days 00:00:00</td>\n",
       "      <td>0.000000</td>\n",
       "      <td>0.000105</td>\n",
       "      <td>0.100000</td>\n",
       "      <td>-1.100000</td>\n",
       "      <td>-0.800000</td>\n",
       "      <td>43.500000</td>\n",
       "      <td>24.400000</td>\n",
       "    </tr>\n",
       "    <tr>\n",
       "      <th>75%</th>\n",
       "      <td>1058.500000</td>\n",
       "      <td>55.200000</td>\n",
       "      <td>34.900000</td>\n",
       "      <td>76 days 00:00:00</td>\n",
       "      <td>6.000000</td>\n",
       "      <td>0.006752</td>\n",
       "      <td>6.600000</td>\n",
       "      <td>0.400000</td>\n",
       "      <td>0.100000</td>\n",
       "      <td>55.500000</td>\n",
       "      <td>35.000000</td>\n",
       "    </tr>\n",
       "    <tr>\n",
       "      <th>max</th>\n",
       "      <td>1157.200000</td>\n",
       "      <td>162.000000</td>\n",
       "      <td>146.600000</td>\n",
       "      <td>104 days 00:00:00</td>\n",
       "      <td>72.500000</td>\n",
       "      <td>0.105378</td>\n",
       "      <td>72.500000</td>\n",
       "      <td>97.400000</td>\n",
       "      <td>82.700000</td>\n",
       "      <td>162.000000</td>\n",
       "      <td>146.600000</td>\n",
       "    </tr>\n",
       "  </tbody>\n",
       "</table>\n",
       "</div>"
      ],
      "text/plain": [
       "       Underlying Close  ATM premium  +/-1 OTM premium  \\\n",
       "count        589.000000   589.000000        589.000000   \n",
       "mean         952.032937    48.380306         29.910526   \n",
       "std          105.612700    27.145585         25.183632   \n",
       "min          671.000000     1.600000          0.200000   \n",
       "25%          881.600000    33.700000         15.500000   \n",
       "50%          947.800000    43.300000         24.200000   \n",
       "75%         1058.500000    55.200000         34.900000   \n",
       "max         1157.200000   162.000000        146.600000   \n",
       "\n",
       "                     Validate_DTE  validate_change  daily return       range  \\\n",
       "count                         589       589.000000    589.000000  589.000000   \n",
       "mean   50 days 07:49:24.346349745         0.047538      0.000283    0.076570   \n",
       "std    29 days 16:29:08.006504926        13.035275      0.015273   13.124922   \n",
       "min               0 days 00:00:00       -89.500000     -0.117686  -89.500000   \n",
       "25%              25 days 00:00:00        -6.000000     -0.006385   -6.000000   \n",
       "50%              50 days 00:00:00         0.000000      0.000105    0.100000   \n",
       "75%              76 days 00:00:00         6.000000      0.006752    6.600000   \n",
       "max             104 days 00:00:00        72.500000      0.105378   72.500000   \n",
       "\n",
       "       atm_change  otm_change     atm_lag  +/-1 Otm_lag  \n",
       "count  589.000000  589.000000  589.000000    589.000000  \n",
       "mean    -0.369270   -0.316129   48.683701     30.191171  \n",
       "std      7.999921    6.590484   27.438991     25.499554  \n",
       "min    -24.200000  -16.000000    0.000000      0.000000  \n",
       "25%     -2.700000   -1.900000   33.700000     15.700000  \n",
       "50%     -1.100000   -0.800000   43.500000     24.400000  \n",
       "75%      0.400000    0.100000   55.500000     35.000000  \n",
       "max     97.400000   82.700000  162.000000    146.600000  "
      ]
     },
     "execution_count": 47,
     "metadata": {},
     "output_type": "execute_result"
    }
   ],
   "source": [
    "preprocess.describe()"
   ]
  },
  {
   "cell_type": "markdown",
   "id": "ec4418b9-2817-4da4-9b9d-4d69f567d373",
   "metadata": {},
   "source": [
    "### Effect of volatility on Options premium."
   ]
  },
  {
   "cell_type": "code",
   "execution_count": null,
   "id": "93c10f6a-534d-44a3-ad8e-264fb141643a",
   "metadata": {},
   "outputs": [
    {
     "name": "stderr",
     "output_type": "stream",
     "text": [
      "/Library/Frameworks/Python.framework/Versions/3.9/lib/python3.9/site-packages/seaborn/_decorators.py:36: FutureWarning: Pass the following variables as keyword args: x, y. From version 0.12, the only valid positional argument will be `data`, and passing other arguments without an explicit keyword will result in an error or misinterpretation.\n",
      "  warnings.warn(\n"
     ]
    },
    {
     "data": {
      "text/plain": [
       "<AxesSubplot:xlabel='daily return', ylabel='atm_change'>"
      ]
     },
     "execution_count": 48,
     "metadata": {},
     "output_type": "execute_result"
    },
    {
     "data": {
      "image/png": "[encoded data removed]",
      "text/plain": [
       "<Figure size 1152x720 with 1 Axes>"
      ]
     },
     "metadata": {
      "needs_background": "light"
     },
     "output_type": "display_data"
    }
   ],
   "source": [
    "fig = plt.figure(figsize=(16,10))\n",
    "plt.subplot(221)\n",
    "\n",
    "sns.scatterplot(preprocess['daily return'],preprocess['atm_change'])"
   ]
  },
  {
   "cell_type": "code",
   "execution_count": 53,
   "id": "2a4cb7dc-4a56-43a5-acef-51ec526ec180",
   "metadata": {},
   "outputs": [],
   "source": [
    "#current working cell"
   ]
  },
  {
   "cell_type": "code",
   "execution_count": null,
   "id": "aa5ff279-a6cd-4aec-af74-1692ebf87dec",
   "metadata": {},
   "outputs": [],
   "source": []
  }
 ],
 "metadata": {
  "kernelspec": {
   "display_name": "Python 3",
   "language": "python",
   "name": "python3"
  },
  "language_info": {
   "codemirror_mode": {
    "name": "ipython",
    "version": 3
   },
   "file_extension": ".py",
   "mimetype": "text/x-python",
   "name": "python",
   "nbconvert_exporter": "python",
   "pygments_lexer": "ipython3",
   "version": "3.9.5"
  }
 },
 "nbformat": 4,
 "nbformat_minor": 5
}
