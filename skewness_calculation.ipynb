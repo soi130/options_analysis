{
 "cells": [
  {
   "cell_type": "code",
   "execution_count": 1,
   "id": "0bf4d679-2ad1-48f6-870b-67ad00770069",
   "metadata": {},
   "outputs": [],
   "source": [
    "import pandas as pd\n",
    "import numpy as np\n",
    "import matplotlib.pyplot as plt"
   ]
  },
  {
   "cell_type": "code",
   "execution_count": 4,
   "id": "e10707a8-ebf4-4ec8-a37d-7cbd762a2e39",
   "metadata": {},
   "outputs": [
    {
     "data": {
      "text/html": [
       "<div>\n",
       "<style scoped>\n",
       "    .dataframe tbody tr th:only-of-type {\n",
       "        vertical-align: middle;\n",
       "    }\n",
       "\n",
       "    .dataframe tbody tr th {\n",
       "        vertical-align: top;\n",
       "    }\n",
       "\n",
       "    .dataframe thead th {\n",
       "        text-align: right;\n",
       "    }\n",
       "</style>\n",
       "<table border=\"1\" class=\"dataframe\">\n",
       "  <thead>\n",
       "    <tr style=\"text-align: right;\">\n",
       "      <th></th>\n",
       "      <th>Date</th>\n",
       "      <th>Open</th>\n",
       "      <th>High</th>\n",
       "      <th>Low</th>\n",
       "      <th>Close</th>\n",
       "      <th>SP</th>\n",
       "      <th>Chg</th>\n",
       "      <th>%Chg</th>\n",
       "      <th>Vol</th>\n",
       "      <th>OI</th>\n",
       "      <th>Series</th>\n",
       "      <th>Expiration</th>\n",
       "      <th>Day to expire</th>\n",
       "      <th>ATM premium</th>\n",
       "      <th>+/-1 OTM premium</th>\n",
       "      <th>atr</th>\n",
       "      <th>tr</th>\n",
       "      <th>atm_tv</th>\n",
       "    </tr>\n",
       "  </thead>\n",
       "  <tbody>\n",
       "    <tr>\n",
       "      <th>0</th>\n",
       "      <td>2019-06-28</td>\n",
       "      <td>1144.5</td>\n",
       "      <td>1149.5</td>\n",
       "      <td>1143.4</td>\n",
       "      <td>1148.4</td>\n",
       "      <td>1148.2</td>\n",
       "      <td>1.9</td>\n",
       "      <td>0.0017</td>\n",
       "      <td>115738.0</td>\n",
       "      <td>316223.0</td>\n",
       "      <td>U19</td>\n",
       "      <td>2019-09-27</td>\n",
       "      <td>91d</td>\n",
       "      <td>43.8</td>\n",
       "      <td>24.4</td>\n",
       "      <td>NaN</td>\n",
       "      <td>6.1</td>\n",
       "      <td>42.2</td>\n",
       "    </tr>\n",
       "    <tr>\n",
       "      <th>1</th>\n",
       "      <td>2019-07-01</td>\n",
       "      <td>1161.9</td>\n",
       "      <td>1163.6</td>\n",
       "      <td>1155.4</td>\n",
       "      <td>1157.2</td>\n",
       "      <td>1157.3</td>\n",
       "      <td>9.1</td>\n",
       "      <td>0.0079</td>\n",
       "      <td>133682.0</td>\n",
       "      <td>321194.0</td>\n",
       "      <td>U19</td>\n",
       "      <td>2019-09-27</td>\n",
       "      <td>88d</td>\n",
       "      <td>42.3</td>\n",
       "      <td>21.7</td>\n",
       "      <td>NaN</td>\n",
       "      <td>8.2</td>\n",
       "      <td>35.1</td>\n",
       "    </tr>\n",
       "    <tr>\n",
       "      <th>2</th>\n",
       "      <td>2019-07-02</td>\n",
       "      <td>1153.5</td>\n",
       "      <td>1156.1</td>\n",
       "      <td>1149.3</td>\n",
       "      <td>1150.4</td>\n",
       "      <td>1150.6</td>\n",
       "      <td>-6.7</td>\n",
       "      <td>-0.0058</td>\n",
       "      <td>119790.0</td>\n",
       "      <td>325410.0</td>\n",
       "      <td>U19</td>\n",
       "      <td>2019-09-27</td>\n",
       "      <td>87d</td>\n",
       "      <td>40.8</td>\n",
       "      <td>20.7</td>\n",
       "      <td>NaN</td>\n",
       "      <td>6.8</td>\n",
       "      <td>40.4</td>\n",
       "    </tr>\n",
       "  </tbody>\n",
       "</table>\n",
       "</div>"
      ],
      "text/plain": [
       "         Date    Open    High     Low   Close      SP  Chg    %Chg       Vol  \\\n",
       "0  2019-06-28  1144.5  1149.5  1143.4  1148.4  1148.2  1.9  0.0017  115738.0   \n",
       "1  2019-07-01  1161.9  1163.6  1155.4  1157.2  1157.3  9.1  0.0079  133682.0   \n",
       "2  2019-07-02  1153.5  1156.1  1149.3  1150.4  1150.6 -6.7 -0.0058  119790.0   \n",
       "\n",
       "         OI Series  Expiration Day to expire  ATM premium  +/-1 OTM premium  \\\n",
       "0  316223.0    U19  2019-09-27           91d         43.8              24.4   \n",
       "1  321194.0    U19  2019-09-27           88d         42.3              21.7   \n",
       "2  325410.0    U19  2019-09-27           87d         40.8              20.7   \n",
       "\n",
       "   atr   tr  atm_tv  \n",
       "0  NaN  6.1    42.2  \n",
       "1  NaN  8.2    35.1  \n",
       "2  NaN  6.8    40.4  "
      ]
     },
     "execution_count": 4,
     "metadata": {},
     "output_type": "execute_result"
    }
   ],
   "source": [
    "df = pd.read_csv('ready_df.csv')\n",
    "\n",
    "df.head(3)"
   ]
  },
  {
   "cell_type": "markdown",
   "id": "9ee438e8-e12f-4556-8319-f67770ee5e9f",
   "metadata": {},
   "source": [
    "Considering only 2 series, Daily Trading Volume and Time Value at ATM (The Insurance Premium) for simplicity."
   ]
  },
  {
   "cell_type": "code",
   "execution_count": 17,
   "id": "c6d57ea3-887c-4218-aa4e-2eba0a87bb5c",
   "metadata": {},
   "outputs": [
    {
     "data": {
      "text/plain": [
       "Text(0.5, 1.0, 'ATM time value')"
      ]
     },
     "execution_count": 17,
     "metadata": {},
     "output_type": "execute_result"
    },
    {
     "data": {
      "image/png": "[encoded data removed]",
      "text/plain": [
       "<Figure size 576x288 with 2 Axes>"
      ]
     },
     "metadata": {
      "needs_background": "light"
     },
     "output_type": "display_data"
    }
   ],
   "source": [
    "plt.figure(figsize=(8,4))\n",
    "plt.subplot(1,2,1)\n",
    "plt.hist(df['Vol'])\n",
    "plt.title('Daily Trading Volume Distibution')\n",
    "\n",
    "plt.subplot(1,2,2)\n",
    "plt.hist(df['atm_tv'])\n",
    "plt.title('ATM time value')"
   ]
  },
  {
   "cell_type": "code",
   "execution_count": 18,
   "id": "1d5a89a2-fd1f-420c-9328-a3fdc5772b28",
   "metadata": {},
   "outputs": [
    {
     "data": {
      "text/html": [
       "<div>\n",
       "<style scoped>\n",
       "    .dataframe tbody tr th:only-of-type {\n",
       "        vertical-align: middle;\n",
       "    }\n",
       "\n",
       "    .dataframe tbody tr th {\n",
       "        vertical-align: top;\n",
       "    }\n",
       "\n",
       "    .dataframe thead th {\n",
       "        text-align: right;\n",
       "    }\n",
       "</style>\n",
       "<table border=\"1\" class=\"dataframe\">\n",
       "  <thead>\n",
       "    <tr style=\"text-align: right;\">\n",
       "      <th></th>\n",
       "      <th>Vol</th>\n",
       "      <th>atm_tv</th>\n",
       "    </tr>\n",
       "  </thead>\n",
       "  <tbody>\n",
       "    <tr>\n",
       "      <th>count</th>\n",
       "      <td>525.000000</td>\n",
       "      <td>525.000000</td>\n",
       "    </tr>\n",
       "    <tr>\n",
       "      <th>mean</th>\n",
       "      <td>177062.013333</td>\n",
       "      <td>39.740381</td>\n",
       "    </tr>\n",
       "    <tr>\n",
       "      <th>std</th>\n",
       "      <td>61580.770958</td>\n",
       "      <td>25.559938</td>\n",
       "    </tr>\n",
       "    <tr>\n",
       "      <th>min</th>\n",
       "      <td>24026.000000</td>\n",
       "      <td>-0.400000</td>\n",
       "    </tr>\n",
       "    <tr>\n",
       "      <th>25%</th>\n",
       "      <td>140711.000000</td>\n",
       "      <td>24.700000</td>\n",
       "    </tr>\n",
       "    <tr>\n",
       "      <th>50%</th>\n",
       "      <td>166388.000000</td>\n",
       "      <td>35.300000</td>\n",
       "    </tr>\n",
       "    <tr>\n",
       "      <th>75%</th>\n",
       "      <td>200015.000000</td>\n",
       "      <td>46.600000</td>\n",
       "    </tr>\n",
       "    <tr>\n",
       "      <th>max</th>\n",
       "      <td>630128.000000</td>\n",
       "      <td>156.600000</td>\n",
       "    </tr>\n",
       "  </tbody>\n",
       "</table>\n",
       "</div>"
      ],
      "text/plain": [
       "                 Vol      atm_tv\n",
       "count     525.000000  525.000000\n",
       "mean   177062.013333   39.740381\n",
       "std     61580.770958   25.559938\n",
       "min     24026.000000   -0.400000\n",
       "25%    140711.000000   24.700000\n",
       "50%    166388.000000   35.300000\n",
       "75%    200015.000000   46.600000\n",
       "max    630128.000000  156.600000"
      ]
     },
     "execution_count": 18,
     "metadata": {},
     "output_type": "execute_result"
    }
   ],
   "source": [
    "df[['Vol','atm_tv']].describe() "
   ]
  },
  {
   "cell_type": "markdown",
   "id": "34959f25-269b-45a9-8306-217033eb08cb",
   "metadata": {},
   "source": [
    "Both are right skewed.\n",
    "\n",
    "### Skewness Calculation"
   ]
  },
  {
   "cell_type": "code",
   "execution_count": 31,
   "id": "4e2912a5-d9c7-40f3-a52c-0078f9bf9ffd",
   "metadata": {},
   "outputs": [
    {
     "name": "stdout",
     "output_type": "stream",
     "text": [
      "Trading Volume Skewness 1.8348613995391168\n",
      "ATM Time Value Skewness 1.668164318687166\n"
     ]
    }
   ],
   "source": [
    "print('Trading Volume Skewness {}'.format(df['Vol'].skew(skipna=True)))\n",
    "print('ATM Time Value Skewness {}'.format(df['atm_tv'].skew(skipna=True)))"
   ]
  },
  {
   "cell_type": "markdown",
   "id": "a6ac0b25-0c4f-426d-84c9-d6d3b3f60c68",
   "metadata": {},
   "source": [
    "From the dataset than contains an extreme events such as COVID-19 Circuit Breaks, It is expected to see right tail in both trading volume and Options premium in the panic.\n",
    "\n",
    "Since the skewness for both series exceed +1, They both are considered highly right skewed."
   ]
  },
  {
   "cell_type": "code",
   "execution_count": null,
   "id": "41d631c1-4a94-482d-9d1e-252c594caa6d",
   "metadata": {},
   "outputs": [],
   "source": []
  }
 ],
 "metadata": {
  "kernelspec": {
   "display_name": "Python 3 (ipykernel)",
   "language": "python",
   "name": "python3"
  },
  "language_info": {
   "codemirror_mode": {
    "name": "ipython",
    "version": 3
   },
   "file_extension": ".py",
   "mimetype": "text/x-python",
   "name": "python",
   "nbconvert_exporter": "python",
   "pygments_lexer": "ipython3",
   "version": "3.8.8"
  }
 },
 "nbformat": 4,
 "nbformat_minor": 5
}
